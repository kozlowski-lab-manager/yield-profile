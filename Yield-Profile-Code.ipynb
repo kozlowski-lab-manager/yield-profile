{
 "cells": [
  {
   "cell_type": "code",
   "execution_count": 7,
   "id": "3454ee30",
   "metadata": {
    "scrolled": false
   },
   "outputs": [
    {
     "name": "stdout",
     "output_type": "stream",
     "text": [
      "list of clusters by condition:\n",
      "[0 0 0 2 2 2 1 1 1]\n"
     ]
    },
    {
     "data": {
      "application/vnd.plotly.v1+json": {
       "config": {
        "plotlyServerURL": "https://plot.ly"
       },
       "data": [
        {
         "hovertemplate": "Cluster=0<br>Symbol=circle<br>PC1=%{x}<br>PC2=%{y}<extra></extra>",
         "legendgroup": "0, circle",
         "marker": {
          "color": "rgb(178,34,34)",
          "size": 35,
          "symbol": "circle"
         },
         "mode": "markers",
         "name": "0, circle",
         "orientation": "v",
         "showlegend": true,
         "type": "scatter",
         "x": [
          0.9160773672101361,
          0.7566411106144629,
          0.8859532957022281
         ],
         "xaxis": "x",
         "y": [
          -0.01951160382895616,
          0.006517067310156043,
          -0.020574423472471993
         ],
         "yaxis": "y"
        },
        {
         "hovertemplate": "Cluster=2<br>Symbol=diamond<br>PC1=%{x}<br>PC2=%{y}<extra></extra>",
         "legendgroup": "2, diamond",
         "marker": {
          "color": "rgb(123,104,238)",
          "size": 35,
          "symbol": "diamond"
         },
         "mode": "markers",
         "name": "2, diamond",
         "orientation": "v",
         "showlegend": true,
         "type": "scatter",
         "x": [
          -0.3699030916684448,
          -0.4030935511586447,
          -0.46894733817847817
         ],
         "xaxis": "x",
         "y": [
          0.5012908285301444,
          0.43092442206518927,
          0.13548118646328275
         ],
         "yaxis": "y"
        },
        {
         "hovertemplate": "Cluster=1<br>Symbol=square<br>PC1=%{x}<br>PC2=%{y}<extra></extra>",
         "legendgroup": "1, square",
         "marker": {
          "color": "rgb(34,139,34)",
          "size": 35,
          "symbol": "square"
         },
         "mode": "markers",
         "name": "1, square",
         "orientation": "v",
         "showlegend": true,
         "type": "scatter",
         "x": [
          -0.4366547783935233,
          -0.4406822583704524,
          -0.43939075575728387
         ],
         "xaxis": "x",
         "y": [
          -0.3552982418549343,
          -0.32713428558174945,
          -0.3516949496306605
         ],
         "yaxis": "y"
        }
       ],
       "layout": {
        "annotations": [
         {
          "font": {
           "color": "white",
           "size": 30
          },
          "showarrow": false,
          "text": "0",
          "x": 0.9160773672101361,
          "y": -0.01951160382895616
         },
         {
          "font": {
           "color": "white",
           "size": 30
          },
          "showarrow": false,
          "text": "1",
          "x": 0.7566411106144629,
          "y": 0.006517067310156043
         },
         {
          "font": {
           "color": "white",
           "size": 30
          },
          "showarrow": false,
          "text": "2",
          "x": 0.8859532957022281,
          "y": -0.020574423472471993
         },
         {
          "font": {
           "color": "white",
           "size": 30
          },
          "showarrow": false,
          "text": "3",
          "x": -0.3699030916684448,
          "y": 0.5012908285301444
         },
         {
          "font": {
           "color": "white",
           "size": 30
          },
          "showarrow": false,
          "text": "4",
          "x": -0.4030935511586447,
          "y": 0.43092442206518927
         },
         {
          "font": {
           "color": "white",
           "size": 30
          },
          "showarrow": false,
          "text": "5",
          "x": -0.46894733817847817,
          "y": 0.13548118646328275
         },
         {
          "font": {
           "color": "white",
           "size": 30
          },
          "showarrow": false,
          "text": "6",
          "x": -0.4366547783935233,
          "y": -0.3552982418549343
         },
         {
          "font": {
           "color": "white",
           "size": 30
          },
          "showarrow": false,
          "text": "7",
          "x": -0.4406822583704524,
          "y": -0.32713428558174945
         },
         {
          "font": {
           "color": "white",
           "size": 30
          },
          "showarrow": false,
          "text": "8",
          "x": -0.43939075575728387,
          "y": -0.3516949496306605
         }
        ],
        "height": 750,
        "legend": {
         "title": {
          "text": "Cluster, Symbol"
         },
         "tracegroupgap": 0
        },
        "margin": {
         "t": 60
        },
        "template": {
         "data": {
          "bar": [
           {
            "error_x": {
             "color": "#2a3f5f"
            },
            "error_y": {
             "color": "#2a3f5f"
            },
            "marker": {
             "line": {
              "color": "#E5ECF6",
              "width": 0.5
             },
             "pattern": {
              "fillmode": "overlay",
              "size": 10,
              "solidity": 0.2
             }
            },
            "type": "bar"
           }
          ],
          "barpolar": [
           {
            "marker": {
             "line": {
              "color": "#E5ECF6",
              "width": 0.5
             },
             "pattern": {
              "fillmode": "overlay",
              "size": 10,
              "solidity": 0.2
             }
            },
            "type": "barpolar"
           }
          ],
          "carpet": [
           {
            "aaxis": {
             "endlinecolor": "#2a3f5f",
             "gridcolor": "white",
             "linecolor": "white",
             "minorgridcolor": "white",
             "startlinecolor": "#2a3f5f"
            },
            "baxis": {
             "endlinecolor": "#2a3f5f",
             "gridcolor": "white",
             "linecolor": "white",
             "minorgridcolor": "white",
             "startlinecolor": "#2a3f5f"
            },
            "type": "carpet"
           }
          ],
          "choropleth": [
           {
            "colorbar": {
             "outlinewidth": 0,
             "ticks": ""
            },
            "type": "choropleth"
           }
          ],
          "contour": [
           {
            "colorbar": {
             "outlinewidth": 0,
             "ticks": ""
            },
            "colorscale": [
             [
              0,
              "#0d0887"
             ],
             [
              0.1111111111111111,
              "#46039f"
             ],
             [
              0.2222222222222222,
              "#7201a8"
             ],
             [
              0.3333333333333333,
              "#9c179e"
             ],
             [
              0.4444444444444444,
              "#bd3786"
             ],
             [
              0.5555555555555556,
              "#d8576b"
             ],
             [
              0.6666666666666666,
              "#ed7953"
             ],
             [
              0.7777777777777778,
              "#fb9f3a"
             ],
             [
              0.8888888888888888,
              "#fdca26"
             ],
             [
              1,
              "#f0f921"
             ]
            ],
            "type": "contour"
           }
          ],
          "contourcarpet": [
           {
            "colorbar": {
             "outlinewidth": 0,
             "ticks": ""
            },
            "type": "contourcarpet"
           }
          ],
          "heatmap": [
           {
            "colorbar": {
             "outlinewidth": 0,
             "ticks": ""
            },
            "colorscale": [
             [
              0,
              "#0d0887"
             ],
             [
              0.1111111111111111,
              "#46039f"
             ],
             [
              0.2222222222222222,
              "#7201a8"
             ],
             [
              0.3333333333333333,
              "#9c179e"
             ],
             [
              0.4444444444444444,
              "#bd3786"
             ],
             [
              0.5555555555555556,
              "#d8576b"
             ],
             [
              0.6666666666666666,
              "#ed7953"
             ],
             [
              0.7777777777777778,
              "#fb9f3a"
             ],
             [
              0.8888888888888888,
              "#fdca26"
             ],
             [
              1,
              "#f0f921"
             ]
            ],
            "type": "heatmap"
           }
          ],
          "heatmapgl": [
           {
            "colorbar": {
             "outlinewidth": 0,
             "ticks": ""
            },
            "colorscale": [
             [
              0,
              "#0d0887"
             ],
             [
              0.1111111111111111,
              "#46039f"
             ],
             [
              0.2222222222222222,
              "#7201a8"
             ],
             [
              0.3333333333333333,
              "#9c179e"
             ],
             [
              0.4444444444444444,
              "#bd3786"
             ],
             [
              0.5555555555555556,
              "#d8576b"
             ],
             [
              0.6666666666666666,
              "#ed7953"
             ],
             [
              0.7777777777777778,
              "#fb9f3a"
             ],
             [
              0.8888888888888888,
              "#fdca26"
             ],
             [
              1,
              "#f0f921"
             ]
            ],
            "type": "heatmapgl"
           }
          ],
          "histogram": [
           {
            "marker": {
             "pattern": {
              "fillmode": "overlay",
              "size": 10,
              "solidity": 0.2
             }
            },
            "type": "histogram"
           }
          ],
          "histogram2d": [
           {
            "colorbar": {
             "outlinewidth": 0,
             "ticks": ""
            },
            "colorscale": [
             [
              0,
              "#0d0887"
             ],
             [
              0.1111111111111111,
              "#46039f"
             ],
             [
              0.2222222222222222,
              "#7201a8"
             ],
             [
              0.3333333333333333,
              "#9c179e"
             ],
             [
              0.4444444444444444,
              "#bd3786"
             ],
             [
              0.5555555555555556,
              "#d8576b"
             ],
             [
              0.6666666666666666,
              "#ed7953"
             ],
             [
              0.7777777777777778,
              "#fb9f3a"
             ],
             [
              0.8888888888888888,
              "#fdca26"
             ],
             [
              1,
              "#f0f921"
             ]
            ],
            "type": "histogram2d"
           }
          ],
          "histogram2dcontour": [
           {
            "colorbar": {
             "outlinewidth": 0,
             "ticks": ""
            },
            "colorscale": [
             [
              0,
              "#0d0887"
             ],
             [
              0.1111111111111111,
              "#46039f"
             ],
             [
              0.2222222222222222,
              "#7201a8"
             ],
             [
              0.3333333333333333,
              "#9c179e"
             ],
             [
              0.4444444444444444,
              "#bd3786"
             ],
             [
              0.5555555555555556,
              "#d8576b"
             ],
             [
              0.6666666666666666,
              "#ed7953"
             ],
             [
              0.7777777777777778,
              "#fb9f3a"
             ],
             [
              0.8888888888888888,
              "#fdca26"
             ],
             [
              1,
              "#f0f921"
             ]
            ],
            "type": "histogram2dcontour"
           }
          ],
          "mesh3d": [
           {
            "colorbar": {
             "outlinewidth": 0,
             "ticks": ""
            },
            "type": "mesh3d"
           }
          ],
          "parcoords": [
           {
            "line": {
             "colorbar": {
              "outlinewidth": 0,
              "ticks": ""
             }
            },
            "type": "parcoords"
           }
          ],
          "pie": [
           {
            "automargin": true,
            "type": "pie"
           }
          ],
          "scatter": [
           {
            "fillpattern": {
             "fillmode": "overlay",
             "size": 10,
             "solidity": 0.2
            },
            "type": "scatter"
           }
          ],
          "scatter3d": [
           {
            "line": {
             "colorbar": {
              "outlinewidth": 0,
              "ticks": ""
             }
            },
            "marker": {
             "colorbar": {
              "outlinewidth": 0,
              "ticks": ""
             }
            },
            "type": "scatter3d"
           }
          ],
          "scattercarpet": [
           {
            "marker": {
             "colorbar": {
              "outlinewidth": 0,
              "ticks": ""
             }
            },
            "type": "scattercarpet"
           }
          ],
          "scattergeo": [
           {
            "marker": {
             "colorbar": {
              "outlinewidth": 0,
              "ticks": ""
             }
            },
            "type": "scattergeo"
           }
          ],
          "scattergl": [
           {
            "marker": {
             "colorbar": {
              "outlinewidth": 0,
              "ticks": ""
             }
            },
            "type": "scattergl"
           }
          ],
          "scattermapbox": [
           {
            "marker": {
             "colorbar": {
              "outlinewidth": 0,
              "ticks": ""
             }
            },
            "type": "scattermapbox"
           }
          ],
          "scatterpolar": [
           {
            "marker": {
             "colorbar": {
              "outlinewidth": 0,
              "ticks": ""
             }
            },
            "type": "scatterpolar"
           }
          ],
          "scatterpolargl": [
           {
            "marker": {
             "colorbar": {
              "outlinewidth": 0,
              "ticks": ""
             }
            },
            "type": "scatterpolargl"
           }
          ],
          "scatterternary": [
           {
            "marker": {
             "colorbar": {
              "outlinewidth": 0,
              "ticks": ""
             }
            },
            "type": "scatterternary"
           }
          ],
          "surface": [
           {
            "colorbar": {
             "outlinewidth": 0,
             "ticks": ""
            },
            "colorscale": [
             [
              0,
              "#0d0887"
             ],
             [
              0.1111111111111111,
              "#46039f"
             ],
             [
              0.2222222222222222,
              "#7201a8"
             ],
             [
              0.3333333333333333,
              "#9c179e"
             ],
             [
              0.4444444444444444,
              "#bd3786"
             ],
             [
              0.5555555555555556,
              "#d8576b"
             ],
             [
              0.6666666666666666,
              "#ed7953"
             ],
             [
              0.7777777777777778,
              "#fb9f3a"
             ],
             [
              0.8888888888888888,
              "#fdca26"
             ],
             [
              1,
              "#f0f921"
             ]
            ],
            "type": "surface"
           }
          ],
          "table": [
           {
            "cells": {
             "fill": {
              "color": "#EBF0F8"
             },
             "line": {
              "color": "white"
             }
            },
            "header": {
             "fill": {
              "color": "#C8D4E3"
             },
             "line": {
              "color": "white"
             }
            },
            "type": "table"
           }
          ]
         },
         "layout": {
          "annotationdefaults": {
           "arrowcolor": "#2a3f5f",
           "arrowhead": 0,
           "arrowwidth": 1
          },
          "autotypenumbers": "strict",
          "coloraxis": {
           "colorbar": {
            "outlinewidth": 0,
            "ticks": ""
           }
          },
          "colorscale": {
           "diverging": [
            [
             0,
             "#8e0152"
            ],
            [
             0.1,
             "#c51b7d"
            ],
            [
             0.2,
             "#de77ae"
            ],
            [
             0.3,
             "#f1b6da"
            ],
            [
             0.4,
             "#fde0ef"
            ],
            [
             0.5,
             "#f7f7f7"
            ],
            [
             0.6,
             "#e6f5d0"
            ],
            [
             0.7,
             "#b8e186"
            ],
            [
             0.8,
             "#7fbc41"
            ],
            [
             0.9,
             "#4d9221"
            ],
            [
             1,
             "#276419"
            ]
           ],
           "sequential": [
            [
             0,
             "#0d0887"
            ],
            [
             0.1111111111111111,
             "#46039f"
            ],
            [
             0.2222222222222222,
             "#7201a8"
            ],
            [
             0.3333333333333333,
             "#9c179e"
            ],
            [
             0.4444444444444444,
             "#bd3786"
            ],
            [
             0.5555555555555556,
             "#d8576b"
            ],
            [
             0.6666666666666666,
             "#ed7953"
            ],
            [
             0.7777777777777778,
             "#fb9f3a"
            ],
            [
             0.8888888888888888,
             "#fdca26"
            ],
            [
             1,
             "#f0f921"
            ]
           ],
           "sequentialminus": [
            [
             0,
             "#0d0887"
            ],
            [
             0.1111111111111111,
             "#46039f"
            ],
            [
             0.2222222222222222,
             "#7201a8"
            ],
            [
             0.3333333333333333,
             "#9c179e"
            ],
            [
             0.4444444444444444,
             "#bd3786"
            ],
            [
             0.5555555555555556,
             "#d8576b"
            ],
            [
             0.6666666666666666,
             "#ed7953"
            ],
            [
             0.7777777777777778,
             "#fb9f3a"
            ],
            [
             0.8888888888888888,
             "#fdca26"
            ],
            [
             1,
             "#f0f921"
            ]
           ]
          },
          "colorway": [
           "#636efa",
           "#EF553B",
           "#00cc96",
           "#ab63fa",
           "#FFA15A",
           "#19d3f3",
           "#FF6692",
           "#B6E880",
           "#FF97FF",
           "#FECB52"
          ],
          "font": {
           "color": "#2a3f5f"
          },
          "geo": {
           "bgcolor": "white",
           "lakecolor": "white",
           "landcolor": "#E5ECF6",
           "showlakes": true,
           "showland": true,
           "subunitcolor": "white"
          },
          "hoverlabel": {
           "align": "left"
          },
          "hovermode": "closest",
          "mapbox": {
           "style": "light"
          },
          "paper_bgcolor": "white",
          "plot_bgcolor": "#E5ECF6",
          "polar": {
           "angularaxis": {
            "gridcolor": "white",
            "linecolor": "white",
            "ticks": ""
           },
           "bgcolor": "#E5ECF6",
           "radialaxis": {
            "gridcolor": "white",
            "linecolor": "white",
            "ticks": ""
           }
          },
          "scene": {
           "xaxis": {
            "backgroundcolor": "#E5ECF6",
            "gridcolor": "white",
            "gridwidth": 2,
            "linecolor": "white",
            "showbackground": true,
            "ticks": "",
            "zerolinecolor": "white"
           },
           "yaxis": {
            "backgroundcolor": "#E5ECF6",
            "gridcolor": "white",
            "gridwidth": 2,
            "linecolor": "white",
            "showbackground": true,
            "ticks": "",
            "zerolinecolor": "white"
           },
           "zaxis": {
            "backgroundcolor": "#E5ECF6",
            "gridcolor": "white",
            "gridwidth": 2,
            "linecolor": "white",
            "showbackground": true,
            "ticks": "",
            "zerolinecolor": "white"
           }
          },
          "shapedefaults": {
           "line": {
            "color": "#2a3f5f"
           }
          },
          "ternary": {
           "aaxis": {
            "gridcolor": "white",
            "linecolor": "white",
            "ticks": ""
           },
           "baxis": {
            "gridcolor": "white",
            "linecolor": "white",
            "ticks": ""
           },
           "bgcolor": "#E5ECF6",
           "caxis": {
            "gridcolor": "white",
            "linecolor": "white",
            "ticks": ""
           }
          },
          "title": {
           "x": 0.05
          },
          "xaxis": {
           "automargin": true,
           "gridcolor": "white",
           "linecolor": "white",
           "ticks": "",
           "title": {
            "standoff": 15
           },
           "zerolinecolor": "white",
           "zerolinewidth": 2
          },
          "yaxis": {
           "automargin": true,
           "gridcolor": "white",
           "linecolor": "white",
           "ticks": "",
           "title": {
            "standoff": 15
           },
           "zerolinecolor": "white",
           "zerolinewidth": 2
          }
         }
        },
        "width": 1500,
        "xaxis": {
         "anchor": "y",
         "domain": [
          0,
          1
         ],
         "title": {
          "text": "PC1"
         }
        },
        "yaxis": {
         "anchor": "x",
         "domain": [
          0,
          1
         ],
         "title": {
          "text": "PC2"
         }
        }
       }
      },
      "text/html": [
       "<div>                            <div id=\"4df3e775-37a0-4742-bae5-555b5e6ae2c7\" class=\"plotly-graph-div\" style=\"height:750px; width:1500px;\"></div>            <script type=\"text/javascript\">                require([\"plotly\"], function(Plotly) {                    window.PLOTLYENV=window.PLOTLYENV || {};                                    if (document.getElementById(\"4df3e775-37a0-4742-bae5-555b5e6ae2c7\")) {                    Plotly.newPlot(                        \"4df3e775-37a0-4742-bae5-555b5e6ae2c7\",                        [{\"hovertemplate\":\"Cluster=0<br>Symbol=circle<br>PC1=%{x}<br>PC2=%{y}<extra></extra>\",\"legendgroup\":\"0, circle\",\"marker\":{\"color\":\"rgb(178,34,34)\",\"symbol\":\"circle\",\"size\":35},\"mode\":\"markers\",\"name\":\"0, circle\",\"orientation\":\"v\",\"showlegend\":true,\"x\":[0.9160773672101361,0.7566411106144629,0.8859532957022281],\"xaxis\":\"x\",\"y\":[-0.01951160382895616,0.006517067310156043,-0.020574423472471993],\"yaxis\":\"y\",\"type\":\"scatter\"},{\"hovertemplate\":\"Cluster=2<br>Symbol=diamond<br>PC1=%{x}<br>PC2=%{y}<extra></extra>\",\"legendgroup\":\"2, diamond\",\"marker\":{\"color\":\"rgb(123,104,238)\",\"symbol\":\"diamond\",\"size\":35},\"mode\":\"markers\",\"name\":\"2, diamond\",\"orientation\":\"v\",\"showlegend\":true,\"x\":[-0.3699030916684448,-0.4030935511586447,-0.46894733817847817],\"xaxis\":\"x\",\"y\":[0.5012908285301444,0.43092442206518927,0.13548118646328275],\"yaxis\":\"y\",\"type\":\"scatter\"},{\"hovertemplate\":\"Cluster=1<br>Symbol=square<br>PC1=%{x}<br>PC2=%{y}<extra></extra>\",\"legendgroup\":\"1, square\",\"marker\":{\"color\":\"rgb(34,139,34)\",\"symbol\":\"square\",\"size\":35},\"mode\":\"markers\",\"name\":\"1, square\",\"orientation\":\"v\",\"showlegend\":true,\"x\":[-0.4366547783935233,-0.4406822583704524,-0.43939075575728387],\"xaxis\":\"x\",\"y\":[-0.3552982418549343,-0.32713428558174945,-0.3516949496306605],\"yaxis\":\"y\",\"type\":\"scatter\"}],                        {\"template\":{\"data\":{\"histogram2dcontour\":[{\"type\":\"histogram2dcontour\",\"colorbar\":{\"outlinewidth\":0,\"ticks\":\"\"},\"colorscale\":[[0.0,\"#0d0887\"],[0.1111111111111111,\"#46039f\"],[0.2222222222222222,\"#7201a8\"],[0.3333333333333333,\"#9c179e\"],[0.4444444444444444,\"#bd3786\"],[0.5555555555555556,\"#d8576b\"],[0.6666666666666666,\"#ed7953\"],[0.7777777777777778,\"#fb9f3a\"],[0.8888888888888888,\"#fdca26\"],[1.0,\"#f0f921\"]]}],\"choropleth\":[{\"type\":\"choropleth\",\"colorbar\":{\"outlinewidth\":0,\"ticks\":\"\"}}],\"histogram2d\":[{\"type\":\"histogram2d\",\"colorbar\":{\"outlinewidth\":0,\"ticks\":\"\"},\"colorscale\":[[0.0,\"#0d0887\"],[0.1111111111111111,\"#46039f\"],[0.2222222222222222,\"#7201a8\"],[0.3333333333333333,\"#9c179e\"],[0.4444444444444444,\"#bd3786\"],[0.5555555555555556,\"#d8576b\"],[0.6666666666666666,\"#ed7953\"],[0.7777777777777778,\"#fb9f3a\"],[0.8888888888888888,\"#fdca26\"],[1.0,\"#f0f921\"]]}],\"heatmap\":[{\"type\":\"heatmap\",\"colorbar\":{\"outlinewidth\":0,\"ticks\":\"\"},\"colorscale\":[[0.0,\"#0d0887\"],[0.1111111111111111,\"#46039f\"],[0.2222222222222222,\"#7201a8\"],[0.3333333333333333,\"#9c179e\"],[0.4444444444444444,\"#bd3786\"],[0.5555555555555556,\"#d8576b\"],[0.6666666666666666,\"#ed7953\"],[0.7777777777777778,\"#fb9f3a\"],[0.8888888888888888,\"#fdca26\"],[1.0,\"#f0f921\"]]}],\"heatmapgl\":[{\"type\":\"heatmapgl\",\"colorbar\":{\"outlinewidth\":0,\"ticks\":\"\"},\"colorscale\":[[0.0,\"#0d0887\"],[0.1111111111111111,\"#46039f\"],[0.2222222222222222,\"#7201a8\"],[0.3333333333333333,\"#9c179e\"],[0.4444444444444444,\"#bd3786\"],[0.5555555555555556,\"#d8576b\"],[0.6666666666666666,\"#ed7953\"],[0.7777777777777778,\"#fb9f3a\"],[0.8888888888888888,\"#fdca26\"],[1.0,\"#f0f921\"]]}],\"contourcarpet\":[{\"type\":\"contourcarpet\",\"colorbar\":{\"outlinewidth\":0,\"ticks\":\"\"}}],\"contour\":[{\"type\":\"contour\",\"colorbar\":{\"outlinewidth\":0,\"ticks\":\"\"},\"colorscale\":[[0.0,\"#0d0887\"],[0.1111111111111111,\"#46039f\"],[0.2222222222222222,\"#7201a8\"],[0.3333333333333333,\"#9c179e\"],[0.4444444444444444,\"#bd3786\"],[0.5555555555555556,\"#d8576b\"],[0.6666666666666666,\"#ed7953\"],[0.7777777777777778,\"#fb9f3a\"],[0.8888888888888888,\"#fdca26\"],[1.0,\"#f0f921\"]]}],\"surface\":[{\"type\":\"surface\",\"colorbar\":{\"outlinewidth\":0,\"ticks\":\"\"},\"colorscale\":[[0.0,\"#0d0887\"],[0.1111111111111111,\"#46039f\"],[0.2222222222222222,\"#7201a8\"],[0.3333333333333333,\"#9c179e\"],[0.4444444444444444,\"#bd3786\"],[0.5555555555555556,\"#d8576b\"],[0.6666666666666666,\"#ed7953\"],[0.7777777777777778,\"#fb9f3a\"],[0.8888888888888888,\"#fdca26\"],[1.0,\"#f0f921\"]]}],\"mesh3d\":[{\"type\":\"mesh3d\",\"colorbar\":{\"outlinewidth\":0,\"ticks\":\"\"}}],\"scatter\":[{\"fillpattern\":{\"fillmode\":\"overlay\",\"size\":10,\"solidity\":0.2},\"type\":\"scatter\"}],\"parcoords\":[{\"type\":\"parcoords\",\"line\":{\"colorbar\":{\"outlinewidth\":0,\"ticks\":\"\"}}}],\"scatterpolargl\":[{\"type\":\"scatterpolargl\",\"marker\":{\"colorbar\":{\"outlinewidth\":0,\"ticks\":\"\"}}}],\"bar\":[{\"error_x\":{\"color\":\"#2a3f5f\"},\"error_y\":{\"color\":\"#2a3f5f\"},\"marker\":{\"line\":{\"color\":\"#E5ECF6\",\"width\":0.5},\"pattern\":{\"fillmode\":\"overlay\",\"size\":10,\"solidity\":0.2}},\"type\":\"bar\"}],\"scattergeo\":[{\"type\":\"scattergeo\",\"marker\":{\"colorbar\":{\"outlinewidth\":0,\"ticks\":\"\"}}}],\"scatterpolar\":[{\"type\":\"scatterpolar\",\"marker\":{\"colorbar\":{\"outlinewidth\":0,\"ticks\":\"\"}}}],\"histogram\":[{\"marker\":{\"pattern\":{\"fillmode\":\"overlay\",\"size\":10,\"solidity\":0.2}},\"type\":\"histogram\"}],\"scattergl\":[{\"type\":\"scattergl\",\"marker\":{\"colorbar\":{\"outlinewidth\":0,\"ticks\":\"\"}}}],\"scatter3d\":[{\"type\":\"scatter3d\",\"line\":{\"colorbar\":{\"outlinewidth\":0,\"ticks\":\"\"}},\"marker\":{\"colorbar\":{\"outlinewidth\":0,\"ticks\":\"\"}}}],\"scattermapbox\":[{\"type\":\"scattermapbox\",\"marker\":{\"colorbar\":{\"outlinewidth\":0,\"ticks\":\"\"}}}],\"scatterternary\":[{\"type\":\"scatterternary\",\"marker\":{\"colorbar\":{\"outlinewidth\":0,\"ticks\":\"\"}}}],\"scattercarpet\":[{\"type\":\"scattercarpet\",\"marker\":{\"colorbar\":{\"outlinewidth\":0,\"ticks\":\"\"}}}],\"carpet\":[{\"aaxis\":{\"endlinecolor\":\"#2a3f5f\",\"gridcolor\":\"white\",\"linecolor\":\"white\",\"minorgridcolor\":\"white\",\"startlinecolor\":\"#2a3f5f\"},\"baxis\":{\"endlinecolor\":\"#2a3f5f\",\"gridcolor\":\"white\",\"linecolor\":\"white\",\"minorgridcolor\":\"white\",\"startlinecolor\":\"#2a3f5f\"},\"type\":\"carpet\"}],\"table\":[{\"cells\":{\"fill\":{\"color\":\"#EBF0F8\"},\"line\":{\"color\":\"white\"}},\"header\":{\"fill\":{\"color\":\"#C8D4E3\"},\"line\":{\"color\":\"white\"}},\"type\":\"table\"}],\"barpolar\":[{\"marker\":{\"line\":{\"color\":\"#E5ECF6\",\"width\":0.5},\"pattern\":{\"fillmode\":\"overlay\",\"size\":10,\"solidity\":0.2}},\"type\":\"barpolar\"}],\"pie\":[{\"automargin\":true,\"type\":\"pie\"}]},\"layout\":{\"autotypenumbers\":\"strict\",\"colorway\":[\"#636efa\",\"#EF553B\",\"#00cc96\",\"#ab63fa\",\"#FFA15A\",\"#19d3f3\",\"#FF6692\",\"#B6E880\",\"#FF97FF\",\"#FECB52\"],\"font\":{\"color\":\"#2a3f5f\"},\"hovermode\":\"closest\",\"hoverlabel\":{\"align\":\"left\"},\"paper_bgcolor\":\"white\",\"plot_bgcolor\":\"#E5ECF6\",\"polar\":{\"bgcolor\":\"#E5ECF6\",\"angularaxis\":{\"gridcolor\":\"white\",\"linecolor\":\"white\",\"ticks\":\"\"},\"radialaxis\":{\"gridcolor\":\"white\",\"linecolor\":\"white\",\"ticks\":\"\"}},\"ternary\":{\"bgcolor\":\"#E5ECF6\",\"aaxis\":{\"gridcolor\":\"white\",\"linecolor\":\"white\",\"ticks\":\"\"},\"baxis\":{\"gridcolor\":\"white\",\"linecolor\":\"white\",\"ticks\":\"\"},\"caxis\":{\"gridcolor\":\"white\",\"linecolor\":\"white\",\"ticks\":\"\"}},\"coloraxis\":{\"colorbar\":{\"outlinewidth\":0,\"ticks\":\"\"}},\"colorscale\":{\"sequential\":[[0.0,\"#0d0887\"],[0.1111111111111111,\"#46039f\"],[0.2222222222222222,\"#7201a8\"],[0.3333333333333333,\"#9c179e\"],[0.4444444444444444,\"#bd3786\"],[0.5555555555555556,\"#d8576b\"],[0.6666666666666666,\"#ed7953\"],[0.7777777777777778,\"#fb9f3a\"],[0.8888888888888888,\"#fdca26\"],[1.0,\"#f0f921\"]],\"sequentialminus\":[[0.0,\"#0d0887\"],[0.1111111111111111,\"#46039f\"],[0.2222222222222222,\"#7201a8\"],[0.3333333333333333,\"#9c179e\"],[0.4444444444444444,\"#bd3786\"],[0.5555555555555556,\"#d8576b\"],[0.6666666666666666,\"#ed7953\"],[0.7777777777777778,\"#fb9f3a\"],[0.8888888888888888,\"#fdca26\"],[1.0,\"#f0f921\"]],\"diverging\":[[0,\"#8e0152\"],[0.1,\"#c51b7d\"],[0.2,\"#de77ae\"],[0.3,\"#f1b6da\"],[0.4,\"#fde0ef\"],[0.5,\"#f7f7f7\"],[0.6,\"#e6f5d0\"],[0.7,\"#b8e186\"],[0.8,\"#7fbc41\"],[0.9,\"#4d9221\"],[1,\"#276419\"]]},\"xaxis\":{\"gridcolor\":\"white\",\"linecolor\":\"white\",\"ticks\":\"\",\"title\":{\"standoff\":15},\"zerolinecolor\":\"white\",\"automargin\":true,\"zerolinewidth\":2},\"yaxis\":{\"gridcolor\":\"white\",\"linecolor\":\"white\",\"ticks\":\"\",\"title\":{\"standoff\":15},\"zerolinecolor\":\"white\",\"automargin\":true,\"zerolinewidth\":2},\"scene\":{\"xaxis\":{\"backgroundcolor\":\"#E5ECF6\",\"gridcolor\":\"white\",\"linecolor\":\"white\",\"showbackground\":true,\"ticks\":\"\",\"zerolinecolor\":\"white\",\"gridwidth\":2},\"yaxis\":{\"backgroundcolor\":\"#E5ECF6\",\"gridcolor\":\"white\",\"linecolor\":\"white\",\"showbackground\":true,\"ticks\":\"\",\"zerolinecolor\":\"white\",\"gridwidth\":2},\"zaxis\":{\"backgroundcolor\":\"#E5ECF6\",\"gridcolor\":\"white\",\"linecolor\":\"white\",\"showbackground\":true,\"ticks\":\"\",\"zerolinecolor\":\"white\",\"gridwidth\":2}},\"shapedefaults\":{\"line\":{\"color\":\"#2a3f5f\"}},\"annotationdefaults\":{\"arrowcolor\":\"#2a3f5f\",\"arrowhead\":0,\"arrowwidth\":1},\"geo\":{\"bgcolor\":\"white\",\"landcolor\":\"#E5ECF6\",\"subunitcolor\":\"white\",\"showland\":true,\"showlakes\":true,\"lakecolor\":\"white\"},\"title\":{\"x\":0.05},\"mapbox\":{\"style\":\"light\"}}},\"xaxis\":{\"anchor\":\"y\",\"domain\":[0.0,1.0],\"title\":{\"text\":\"PC1\"}},\"yaxis\":{\"anchor\":\"x\",\"domain\":[0.0,1.0],\"title\":{\"text\":\"PC2\"}},\"legend\":{\"title\":{\"text\":\"Cluster, Symbol\"},\"tracegroupgap\":0},\"margin\":{\"t\":60},\"height\":750,\"width\":1500,\"annotations\":[{\"font\":{\"color\":\"white\",\"size\":30},\"showarrow\":false,\"text\":\"0\",\"x\":0.9160773672101361,\"y\":-0.01951160382895616},{\"font\":{\"color\":\"white\",\"size\":30},\"showarrow\":false,\"text\":\"1\",\"x\":0.7566411106144629,\"y\":0.006517067310156043},{\"font\":{\"color\":\"white\",\"size\":30},\"showarrow\":false,\"text\":\"2\",\"x\":0.8859532957022281,\"y\":-0.020574423472471993},{\"font\":{\"color\":\"white\",\"size\":30},\"showarrow\":false,\"text\":\"3\",\"x\":-0.3699030916684448,\"y\":0.5012908285301444},{\"font\":{\"color\":\"white\",\"size\":30},\"showarrow\":false,\"text\":\"4\",\"x\":-0.4030935511586447,\"y\":0.43092442206518927},{\"font\":{\"color\":\"white\",\"size\":30},\"showarrow\":false,\"text\":\"5\",\"x\":-0.46894733817847817,\"y\":0.13548118646328275},{\"font\":{\"color\":\"white\",\"size\":30},\"showarrow\":false,\"text\":\"6\",\"x\":-0.4366547783935233,\"y\":-0.3552982418549343},{\"font\":{\"color\":\"white\",\"size\":30},\"showarrow\":false,\"text\":\"7\",\"x\":-0.4406822583704524,\"y\":-0.32713428558174945},{\"font\":{\"color\":\"white\",\"size\":30},\"showarrow\":false,\"text\":\"8\",\"x\":-0.43939075575728387,\"y\":-0.3516949496306605}]},                        {\"responsive\": true}                    ).then(function(){\n",
       "                            \n",
       "var gd = document.getElementById('4df3e775-37a0-4742-bae5-555b5e6ae2c7');\n",
       "var x = new MutationObserver(function (mutations, observer) {{\n",
       "        var display = window.getComputedStyle(gd).display;\n",
       "        if (!display || display === 'none') {{\n",
       "            console.log([gd, 'removed!']);\n",
       "            Plotly.purge(gd);\n",
       "            observer.disconnect();\n",
       "        }}\n",
       "}});\n",
       "\n",
       "// Listen for the removal of the full notebook cells\n",
       "var notebookContainer = gd.closest('#notebook-container');\n",
       "if (notebookContainer) {{\n",
       "    x.observe(notebookContainer, {childList: true});\n",
       "}}\n",
       "\n",
       "// Listen for the clearing of the current output cell\n",
       "var outputEl = gd.closest('.output');\n",
       "if (outputEl) {{\n",
       "    x.observe(outputEl, {childList: true});\n",
       "}}\n",
       "\n",
       "                        })                };                });            </script>        </div>"
      ]
     },
     "metadata": {},
     "output_type": "display_data"
    },
    {
     "name": "stdout",
     "output_type": "stream",
     "text": [
      "Explained variance by principal components:\n",
      "PC1: 68.39%\n",
      "PC2: 16.88%\n",
      "PC3: 12.82%\n",
      "Total variance explained by first 3 components: 98.09%\n"
     ]
    }
   ],
   "source": [
    "#Data processing, clustering, and PCA\n",
    "\n",
    "import pandas as pd \n",
    "import numpy as np \n",
    "import plotly.express as px\n",
    "import plotly.colors as pc\n",
    "from sklearn.decomposition import PCA\n",
    "import matplotlib.pyplot as plt\n",
    "from matplotlib.colors import ListedColormap\n",
    "from sklearn import preprocessing\n",
    "from sklearn.cluster import KMeans\n",
    "from sklearn.metrics import adjusted_rand_score\n",
    "\n",
    "df = pd.read_csv(\"FinalElimData.csv\") #reads in csv file\n",
    "my_array = df.values  # converts dataframe to numpy array\n",
    "\n",
    "#Ordinal normalization\n",
    "def normalize_array_by_ranking(arr):\n",
    "    # Get the shape of the array\n",
    "    rows, cols = arr.shape\n",
    "\n",
    "    # Initialize a new array to store the normalized values and set it to NaN\n",
    "    normalized_arr = np.full((rows, cols), np.nan)\n",
    "    \n",
    "    # Iterate through each row and replace non-NaN values with their rankings\n",
    "    for i in range(rows):\n",
    "        row = arr[i, :]\n",
    "        non_nan_indices = np.logical_not(np.isnan(row))\n",
    "        ranking = np.argsort(np.argsort(row[non_nan_indices]))\n",
    "        normalized_arr[i, non_nan_indices] = ranking\n",
    "    \n",
    "    return normalized_arr\n",
    "\n",
    "#Use for C–H Activation data - make sure this line is commented if not using\n",
    "#normalized_array = normalize_array_by_ranking(my_array)\n",
    "\n",
    "#Vector normalization (use for elimination and phenol data - make sure this is commented if not using)\n",
    "normalized_array = preprocessing.normalize(my_array)\n",
    "\n",
    "#choose number of clusters\n",
    "number_of_clusters = 3\n",
    "\n",
    "#runs k means algorithm on data\n",
    "KMeans = KMeans(n_clusters=number_of_clusters, random_state=13, n_init=10)\n",
    "clusters = KMeans.fit_predict(normalized_array)\n",
    "\n",
    "# Define a list of colors\n",
    "base_dark_colors = [\n",
    "    'rgb(178,34,34)',\n",
    "    'rgb(34,139,34)',\n",
    "    'rgb(123,104,238)',\n",
    "    'rgb(138,43,226)',\n",
    "    'rgb(160,82,45)',\n",
    "    'rgb(199,21,133)',\n",
    "    'rgb(105,105,105)'\n",
    "]\n",
    "\n",
    "# Repeat and truncate the list to match number of clusters\n",
    "dark_colors = (base_dark_colors * ((number_of_clusters // len(base_dark_colors)) + 1))[:number_of_clusters]\n",
    "\n",
    "# Create symbol and color dictionary for clusters\n",
    "symbols = ['circle', 'square', 'diamond', 'cross', 'x', 'triangle-up', 'triangle-down', 'triangle-left', 'triangle-right', 'hexagram'] * (number_of_clusters // 10 + 1)\n",
    "symbols = symbols[:number_of_clusters]\n",
    "cluster_to_color_dictionary = {str(i): dark_colors[i] for i in range(number_of_clusters)}\n",
    "cluster_to_symbol_dictionary = {i: symbols[i] for i in range(number_of_clusters)}\n",
    "\n",
    "#prints out clustering results\n",
    "print(\"list of clusters by condition:\")\n",
    "print(clusters)\n",
    "\n",
    "#PCA to visualize data points and clustering\n",
    "pca = PCA(n_components=3)\n",
    "embedding = pca.fit_transform(normalized_array)\n",
    "\n",
    "# Prepare dataframe for Plotly\n",
    "plot_df = pd.DataFrame({\n",
    "    'PC1': embedding[:, 0],\n",
    "    'PC2': embedding[:, 1],\n",
    "    'PC3': embedding[:, 2],  # Include PC3 here\n",
    "    'Cluster': clusters.astype(str),\n",
    "    'Symbol': [cluster_to_symbol_dictionary[label] for label in clusters]\n",
    "})\n",
    "\n",
    "# Plot PCA with clustering results\n",
    "fig3 = px.scatter(\n",
    "    plot_df,\n",
    "    x='PC1',\n",
    "    y='PC2',\n",
    "    color='Cluster',\n",
    "    symbol='Symbol',\n",
    "    color_discrete_map=cluster_to_color_dictionary,\n",
    "    width=1500,\n",
    "    height=750\n",
    ")\n",
    "\n",
    "# Add annotations\n",
    "for i, entry_number in enumerate(range(len(normalized_array))):\n",
    "    fig3.add_annotation(\n",
    "        x=embedding[i, 0],\n",
    "        y=embedding[i, 1],\n",
    "        text=str(entry_number),\n",
    "        showarrow=False,\n",
    "        font=dict(color=\"white\", size=30)\n",
    "    )\n",
    "\n",
    "fig3.update_traces(marker_size=35)\n",
    "fig3.show()\n",
    "\n",
    "# Calculate and print explained variance ratios\n",
    "explained_variance = pca.explained_variance_ratio_\n",
    "total_variance = np.sum(explained_variance)\n",
    "\n",
    "print(\"Explained variance by principal components:\")\n",
    "for i, var in enumerate(explained_variance):\n",
    "    print(f\"PC{i+1}: {var:.2%}\")\n",
    "\n",
    "print(f\"Total variance explained by first 3 components: {total_variance:.2%}\")"
   ]
  },
  {
   "cell_type": "code",
   "execution_count": 8,
   "id": "b0819abd",
   "metadata": {},
   "outputs": [
    {
     "name": "stdout",
     "output_type": "stream",
     "text": [
      "Number of unique cluster groupings over 1000 random seeds: 6\n",
      "Clustering 1: (1, 1, 1, 2, 2, 2, 0, 0, 0) - Occurrences: 413\n",
      "Clustering 2: (1, 1, 1, 0, 0, 0, 2, 2, 2) - Occurrences: 330\n",
      "Clustering 3: (0, 0, 0, 2, 2, 2, 1, 1, 1) - Occurrences: 186\n",
      "Clustering 4: (0, 0, 0, 1, 1, 1, 2, 2, 2) - Occurrences: 55\n",
      "Clustering 5: (2, 2, 2, 0, 0, 0, 1, 1, 1) - Occurrences: 11\n",
      "Clustering 6: (2, 2, 2, 1, 1, 1, 0, 0, 0) - Occurrences: 5\n"
     ]
    }
   ],
   "source": [
    "# Test dataset for clustering performance with different random seeds\n",
    "\n",
    "from collections import Counter\n",
    "from sklearn.cluster import KMeans\n",
    "import numpy as np\n",
    "\n",
    "num_clusters = 3  # Change as needed\n",
    "num_runs = 1000\n",
    "\n",
    "# Counter to store the frequency of each unique clustering\n",
    "clustering_counts = Counter()\n",
    "\n",
    "for seed in range(num_runs):\n",
    "    kmeans = KMeans(n_clusters=num_clusters, random_state=seed, n_init=10)\n",
    "    kmeans.fit(normalized_array)\n",
    "    \n",
    "    # Directly store the labels as a tuple\n",
    "    clustering_counts[tuple(kmeans.labels_)] += 1\n",
    "\n",
    "# Display the results\n",
    "print(f\"Number of unique cluster groupings over {num_runs} random seeds: {len(clustering_counts)}\")\n",
    "for i, (clustering, count) in enumerate(clustering_counts.items(), 1):\n",
    "    print(f\"Clustering {i}: {clustering} - Occurrences: {count}\")\n"
   ]
  },
  {
   "cell_type": "code",
   "execution_count": 9,
   "id": "f7b2c171",
   "metadata": {},
   "outputs": [
    {
     "name": "stdout",
     "output_type": "stream",
     "text": [
      "Number of times each unique modified dataset clustering appeared:\n",
      "Cluster (0, 0, 0, 2, 2, 2, 1, 1, 1) appeared 656 times\n",
      "Cluster (0, 0, 0, 1, 1, 1, 2, 2, 2) appeared 13 times\n",
      "Cluster (0, 2, 0, 1, 1, 1, 1, 1, 1) appeared 179 times\n",
      "Cluster (0, 0, 0, 2, 2, 1, 1, 1, 1) appeared 1 times\n",
      "Cluster (2, 0, 2, 1, 1, 1, 1, 1, 1) appeared 63 times\n",
      "Cluster (1, 2, 1, 0, 0, 0, 0, 0, 0) appeared 66 times\n",
      "Cluster (2, 1, 2, 0, 0, 0, 0, 0, 0) appeared 22 times\n"
     ]
    }
   ],
   "source": [
    "#Test dataset for performance with random noise (general)\n",
    "\n",
    "from sklearn.cluster import KMeans\n",
    "from collections import defaultdict\n",
    "\n",
    "# Function to modify all values per row\n",
    "def modify_array(arr):\n",
    "    modified_arr = arr.copy()\n",
    "    rows, cols = modified_arr.shape\n",
    "    \n",
    "    for i in range(rows):\n",
    "        for j in range(cols):\n",
    "            if modified_arr[i, j] != -1:\n",
    "                change = np.random.randint(0, 6)  # Random number between 0 and 5\n",
    "                # Randomly decide whether to add or subtract the number\n",
    "                modified_arr[i, j] += np.random.choice([-change, change])\n",
    "                \n",
    "                # Ensure values don't exceed 100 or go below 0\n",
    "                modified_arr[i, j] = max(0, min(modified_arr[i, j], 100))\n",
    "    \n",
    "    return modified_arr\n",
    "\n",
    "# Function to perform actual clustering\n",
    "def cluster_data(arr):\n",
    "    \"\"\"Clusters the data into 3 groups using KMeans\"\"\"\n",
    "    kmeans = KMeans(n_clusters=3, random_state=13, init=\"k-means++\")\n",
    "    cluster_labels = kmeans.fit_predict(arr)\n",
    "    return cluster_labels\n",
    "\n",
    "# Dictionary to track occurrences of unique clusters\n",
    "cluster_counts = defaultdict(int)\n",
    "\n",
    "# Run the modification 1000 times\n",
    "for _ in range(1000):\n",
    "    modified_data = modify_array(my_array)\n",
    "    #normalized_data = normalize_array_by_ranking(modified_data)  # C–H Activation normalization\n",
    "    normalized_data = preprocessing.normalize(modified_data) #Elim/Phenol normalization\n",
    "    cluster_result = cluster_data(normalized_data)  # Get cluster assignments\n",
    "    \n",
    "    cluster_tuple = tuple(cluster_result)  # Convert array to hashable format\n",
    "    cluster_counts[cluster_tuple] += 1\n",
    "\n",
    "# Display results\n",
    "print(\"Number of times each unique modified dataset clustering appeared:\")\n",
    "for cluster, count in cluster_counts.items():\n",
    "    print(f\"Cluster {cluster} appeared {count} times\")"
   ]
  },
  {
   "cell_type": "code",
   "execution_count": 10,
   "id": "9b491dde",
   "metadata": {},
   "outputs": [
    {
     "name": "stdout",
     "output_type": "stream",
     "text": [
      "Trial 1: ARI Score = 0.3529\n",
      "Trial 2: ARI Score = 0.3529\n",
      "Trial 3: ARI Score = 1.0000\n",
      "Trial 4: ARI Score = 1.0000\n",
      "Trial 5: ARI Score = 1.0000\n",
      "Trial 6: ARI Score = 0.3529\n",
      "Trial 7: ARI Score = 1.0000\n",
      "Trial 8: ARI Score = 0.3529\n",
      "Trial 9: ARI Score = 0.3529\n",
      "Trial 10: ARI Score = 0.3529\n",
      "Trial 11: ARI Score = 0.3529\n",
      "Trial 12: ARI Score = 1.0000\n",
      "Trial 13: ARI Score = 1.0000\n",
      "Trial 14: ARI Score = 1.0000\n",
      "Trial 15: ARI Score = 1.0000\n",
      "Trial 16: ARI Score = 1.0000\n",
      "Trial 17: ARI Score = 0.3529\n",
      "Trial 18: ARI Score = 1.0000\n",
      "Trial 19: ARI Score = 1.0000\n",
      "Trial 20: ARI Score = 1.0000\n",
      "Trial 21: ARI Score = 0.3529\n",
      "Trial 22: ARI Score = 1.0000\n",
      "Trial 23: ARI Score = 1.0000\n",
      "Trial 24: ARI Score = 1.0000\n",
      "Trial 25: ARI Score = 1.0000\n",
      "Trial 26: ARI Score = 0.3529\n",
      "Trial 27: ARI Score = 0.3529\n",
      "Trial 28: ARI Score = 1.0000\n",
      "Trial 29: ARI Score = 1.0000\n",
      "Trial 30: ARI Score = 0.3529\n",
      "Trial 31: ARI Score = 1.0000\n",
      "Trial 32: ARI Score = 1.0000\n",
      "Trial 33: ARI Score = 0.3529\n",
      "Trial 34: ARI Score = 0.3529\n",
      "Trial 35: ARI Score = 0.3529\n",
      "Trial 36: ARI Score = 1.0000\n",
      "Trial 37: ARI Score = 1.0000\n",
      "Trial 38: ARI Score = 1.0000\n",
      "Trial 39: ARI Score = 1.0000\n",
      "Trial 40: ARI Score = 0.3529\n",
      "Trial 41: ARI Score = 1.0000\n",
      "Trial 42: ARI Score = 1.0000\n",
      "Trial 43: ARI Score = 1.0000\n",
      "Trial 44: ARI Score = 0.3529\n",
      "Trial 45: ARI Score = 1.0000\n",
      "Trial 46: ARI Score = 1.0000\n",
      "Trial 47: ARI Score = 1.0000\n",
      "Trial 48: ARI Score = 0.3529\n",
      "Trial 49: ARI Score = 1.0000\n",
      "Trial 50: ARI Score = 1.0000\n",
      "Trial 51: ARI Score = 0.3529\n",
      "Trial 52: ARI Score = 1.0000\n",
      "Trial 53: ARI Score = 1.0000\n",
      "Trial 54: ARI Score = 0.3529\n",
      "Trial 55: ARI Score = 1.0000\n",
      "Trial 56: ARI Score = 1.0000\n",
      "Trial 57: ARI Score = 0.3529\n",
      "Trial 58: ARI Score = 1.0000\n",
      "Trial 59: ARI Score = 1.0000\n",
      "Trial 60: ARI Score = 0.3529\n",
      "Trial 61: ARI Score = 1.0000\n",
      "Trial 62: ARI Score = 1.0000\n",
      "Trial 63: ARI Score = 1.0000\n",
      "Trial 64: ARI Score = 1.0000\n",
      "Trial 65: ARI Score = 1.0000\n",
      "Trial 66: ARI Score = 1.0000\n",
      "Trial 67: ARI Score = 1.0000\n",
      "Trial 68: ARI Score = 1.0000\n",
      "Trial 69: ARI Score = 0.3529\n",
      "Trial 70: ARI Score = 0.3529\n",
      "Trial 71: ARI Score = 0.3529\n",
      "Trial 72: ARI Score = 1.0000\n",
      "Trial 73: ARI Score = 1.0000\n",
      "Trial 74: ARI Score = 1.0000\n",
      "Trial 75: ARI Score = 0.3529\n",
      "Trial 76: ARI Score = 1.0000\n",
      "Trial 77: ARI Score = 1.0000\n",
      "Trial 78: ARI Score = 1.0000\n",
      "Trial 79: ARI Score = 1.0000\n",
      "Trial 80: ARI Score = 0.3529\n",
      "Trial 81: ARI Score = 0.3529\n",
      "Trial 82: ARI Score = 1.0000\n",
      "Trial 83: ARI Score = 0.3529\n",
      "Trial 84: ARI Score = 1.0000\n",
      "Trial 85: ARI Score = 1.0000\n",
      "Trial 86: ARI Score = 1.0000\n",
      "Trial 87: ARI Score = 0.3529\n",
      "Trial 88: ARI Score = 1.0000\n",
      "Trial 89: ARI Score = 1.0000\n",
      "Trial 90: ARI Score = 0.3529\n",
      "Trial 91: ARI Score = 1.0000\n",
      "Trial 92: ARI Score = 0.3529\n",
      "Trial 93: ARI Score = 1.0000\n",
      "Trial 94: ARI Score = 1.0000\n",
      "Trial 95: ARI Score = 0.3529\n",
      "Trial 96: ARI Score = 1.0000\n",
      "Trial 97: ARI Score = 0.3529\n",
      "Trial 98: ARI Score = 1.0000\n",
      "Trial 99: ARI Score = 0.3529\n",
      "Trial 100: ARI Score = 0.3529\n",
      "\n",
      "Final Results:\n",
      "Average ARI over 100 trials: 0.7671\n",
      "Number of unique clustering results: 5\n",
      "Most common clustering appeared 64 times.\n"
     ]
    }
   ],
   "source": [
    "#ARI scores for Elimination clustering\n",
    "\n",
    "import numpy as np\n",
    "import pandas as pd\n",
    "from sklearn.metrics import adjusted_rand_score\n",
    "from sklearn.cluster import KMeans\n",
    "from sklearn import preprocessing\n",
    "\n",
    "def modify_array(arr):\n",
    "    modified_arr = arr.copy()\n",
    "    rows, cols = modified_arr.shape\n",
    "    \n",
    "    for i in range(rows):\n",
    "        for j in range(cols):\n",
    "            if modified_arr[i, j] != -1:\n",
    "                change = np.random.randint(0, 6)  # Random number between 0 and 5\n",
    "                modified_arr[i, j] += np.random.choice([-change, change])  # Add or subtract change\n",
    "                modified_arr[i, j] = max(0, min(modified_arr[i, j], 100))  # Ensure values don't exceed 100\n",
    "    \n",
    "    return modified_arr\n",
    "\n",
    "# Load dataset\n",
    "df = pd.read_csv(\"FinalElimData.csv\")\n",
    "my_array = df.values\n",
    "\n",
    "# Ground truth labels for 9 points\n",
    "true_labels = np.array([0, 0, 0, 1, 1, 1, 2, 2, 2])\n",
    "\n",
    "if len(my_array) != len(true_labels):\n",
    "    raise ValueError(f\"Mismatch: dataset has {len(my_array)} rows, but expected {len(true_labels)} labels.\")\n",
    "\n",
    "num_clusters = len(set(true_labels))\n",
    "ari_scores = []\n",
    "unique_clusterings = {}\n",
    "\n",
    "for trial in range(1, 101):\n",
    "    modified_array = modify_array(my_array)\n",
    "    normalized_array = preprocessing.normalize(modified_array)\n",
    "    \n",
    "    kmeans = KMeans(n_clusters=num_clusters, init=\"k-means++\", random_state=13, n_init=10)\n",
    "    pred_labels = kmeans.fit_predict(normalized_array)\n",
    "    ari = adjusted_rand_score(true_labels, pred_labels)\n",
    "    ari_scores.append(ari)\n",
    "    \n",
    "    cluster_tuple = tuple(pred_labels)\n",
    "    unique_clusterings[cluster_tuple] = unique_clusterings.get(cluster_tuple, 0) + 1\n",
    "    \n",
    "    print(f\"Trial {trial}: ARI Score = {ari:.4f}\")\n",
    "\n",
    "avg_ari = np.mean(ari_scores)\n",
    "num_unique_clusterings = len(unique_clusterings)\n",
    "most_common_clustering = max(unique_clusterings.values())\n",
    "\n",
    "print(\"\\nFinal Results:\")\n",
    "print(f\"Average ARI over 100 trials: {avg_ari:.4f}\")\n",
    "print(f\"Number of unique clustering results: {num_unique_clusterings}\")\n",
    "print(f\"Most common clustering appeared {most_common_clustering} times.\")\n"
   ]
  },
  {
   "cell_type": "code",
   "execution_count": 6,
   "id": "b31fecd3",
   "metadata": {},
   "outputs": [
    {
     "name": "stdout",
     "output_type": "stream",
     "text": [
      "\n",
      "Trial 1:\n",
      "Clusters: [0 0 0 0 2 2 2 2 2 2 2 2 1 1 1 1 2 1 1 1 1]\n",
      "ARI Score: 0.8286\n",
      "\n",
      "Trial 2:\n",
      "Clusters: [1 2 2 2 1 1 1 1 1 1 1 1 0 0 0 0 2 0 0 0 0]\n",
      "ARI Score: 0.7643\n",
      "\n",
      "Trial 3:\n",
      "Clusters: [2 2 2 2 1 1 1 1 1 1 1 1 0 0 0 0 0 0 0 0 0]\n",
      "ARI Score: 1.0000\n",
      "\n",
      "Trial 4:\n",
      "Clusters: [1 2 2 2 1 1 1 1 1 1 1 1 0 0 0 0 2 0 0 0 0]\n",
      "ARI Score: 0.7643\n",
      "\n",
      "Trial 5:\n",
      "Clusters: [0 0 0 0 2 2 2 2 2 2 2 2 1 1 1 1 1 1 1 1 1]\n",
      "ARI Score: 1.0000\n",
      "\n",
      "Trial 6:\n",
      "Clusters: [1 1 1 1 2 2 2 2 2 2 2 2 0 0 0 0 1 0 0 0 0]\n",
      "ARI Score: 0.8696\n",
      "\n",
      "Trial 7:\n",
      "Clusters: [0 0 0 0 2 2 2 2 2 2 2 2 1 1 1 1 2 1 1 1 1]\n",
      "ARI Score: 0.8286\n",
      "\n",
      "Trial 8:\n",
      "Clusters: [1 2 1 2 1 1 1 1 1 1 1 1 0 2 0 0 2 0 0 0 2]\n",
      "ARI Score: 0.5286\n",
      "\n",
      "Trial 9:\n",
      "Clusters: [1 2 1 2 1 1 1 1 1 1 1 1 0 2 0 1 2 0 0 0 2]\n",
      "ARI Score: 0.3789\n",
      "\n",
      "Trial 10:\n",
      "Clusters: [1 2 2 2 1 1 1 1 1 1 1 1 0 0 0 0 2 0 0 0 0]\n",
      "ARI Score: 0.7643\n",
      "\n",
      "Trial 11:\n",
      "Clusters: [2 0 2 2 1 1 1 1 1 1 1 1 0 0 0 0 1 0 0 0 0]\n",
      "ARI Score: 0.7158\n",
      "\n",
      "Trial 12:\n",
      "Clusters: [0 0 0 0 2 2 2 2 2 2 2 2 1 1 1 1 1 1 1 1 1]\n",
      "ARI Score: 1.0000\n",
      "\n",
      "Trial 13:\n",
      "Clusters: [1 2 1 2 1 1 1 1 1 1 1 1 0 2 2 0 2 0 0 0 2]\n",
      "ARI Score: 0.4857\n",
      "\n",
      "Trial 14:\n",
      "Clusters: [2 2 2 2 1 1 1 1 1 1 1 1 0 0 0 1 1 0 0 0 0]\n",
      "ARI Score: 0.6809\n",
      "\n",
      "Trial 15:\n",
      "Clusters: [1 2 1 2 1 1 1 1 1 1 1 1 0 2 2 1 2 0 0 0 2]\n",
      "ARI Score: 0.3497\n",
      "\n",
      "Trial 16:\n",
      "Clusters: [1 2 2 2 1 1 1 1 1 1 1 1 0 0 0 0 2 0 0 0 0]\n",
      "ARI Score: 0.7643\n",
      "\n",
      "Trial 17:\n",
      "Clusters: [0 1 0 1 0 0 0 0 0 0 0 0 2 1 1 0 1 2 2 2 1]\n",
      "ARI Score: 0.3497\n",
      "\n",
      "Trial 18:\n",
      "Clusters: [1 2 2 2 1 1 1 1 1 1 1 1 0 0 0 1 2 0 0 0 0]\n",
      "ARI Score: 0.5957\n",
      "\n",
      "Trial 19:\n",
      "Clusters: [2 0 0 0 2 2 2 2 2 2 2 2 1 1 1 1 1 1 1 1 1]\n",
      "ARI Score: 0.8842\n",
      "\n",
      "Trial 20:\n",
      "Clusters: [2 2 2 2 1 1 1 1 1 1 1 1 0 0 0 0 1 0 0 0 0]\n",
      "ARI Score: 0.8286\n",
      "\n",
      "Trial 21:\n",
      "Clusters: [2 2 2 2 1 1 1 1 1 1 1 1 0 0 0 0 2 0 0 0 0]\n",
      "ARI Score: 0.8696\n",
      "\n",
      "Trial 22:\n",
      "Clusters: [1 2 2 2 1 1 1 1 1 1 1 1 0 0 0 0 2 0 0 0 0]\n",
      "ARI Score: 0.7643\n",
      "\n",
      "Trial 23:\n",
      "Clusters: [1 2 2 2 1 1 1 1 1 1 1 1 0 0 0 0 2 0 0 0 0]\n",
      "ARI Score: 0.7643\n",
      "\n",
      "Trial 24:\n",
      "Clusters: [0 1 0 0 2 2 2 2 2 2 2 2 1 1 1 1 2 1 1 1 1]\n",
      "ARI Score: 0.7158\n",
      "\n",
      "Trial 25:\n",
      "Clusters: [1 2 1 2 1 1 1 1 1 1 1 1 0 2 2 0 2 0 0 0 2]\n",
      "ARI Score: 0.4857\n",
      "\n",
      "Trial 26:\n",
      "Clusters: [0 0 0 0 2 2 2 2 2 2 2 2 1 1 1 2 0 1 1 1 1]\n",
      "ARI Score: 0.7076\n",
      "\n",
      "Trial 27:\n",
      "Clusters: [0 0 0 0 2 2 2 2 2 2 2 2 1 1 1 1 2 1 1 1 1]\n",
      "ARI Score: 0.8286\n",
      "\n",
      "Trial 28:\n",
      "Clusters: [0 0 0 0 2 2 2 2 2 2 2 2 1 1 1 1 2 1 1 1 1]\n",
      "ARI Score: 0.8286\n",
      "\n",
      "Trial 29:\n",
      "Clusters: [1 2 2 2 1 1 1 1 1 1 1 1 0 0 0 0 2 0 0 0 0]\n",
      "ARI Score: 0.7643\n",
      "\n",
      "Trial 30:\n",
      "Clusters: [0 1 0 0 2 2 2 2 2 2 2 2 1 1 1 2 1 1 1 1 1]\n",
      "ARI Score: 0.7158\n",
      "\n",
      "Trial 31:\n",
      "Clusters: [1 2 2 2 1 1 1 1 1 1 1 1 0 0 0 0 1 0 0 0 0]\n",
      "ARI Score: 0.7063\n",
      "\n",
      "Trial 32:\n",
      "Clusters: [2 1 2 2 0 0 0 0 0 0 0 0 1 1 1 1 1 1 1 1 1]\n",
      "ARI Score: 0.8741\n",
      "\n",
      "Trial 33:\n",
      "Clusters: [1 2 2 2 1 1 1 1 1 1 1 1 0 0 0 0 2 0 0 0 0]\n",
      "ARI Score: 0.7643\n",
      "\n",
      "Trial 34:\n",
      "Clusters: [1 2 1 2 1 1 1 1 1 1 1 1 0 2 2 0 2 0 0 0 2]\n",
      "ARI Score: 0.4857\n",
      "\n",
      "Trial 35:\n",
      "Clusters: [2 2 2 2 1 1 1 1 1 1 1 1 0 0 0 0 2 0 0 0 0]\n",
      "ARI Score: 0.8696\n",
      "\n",
      "Trial 36:\n",
      "Clusters: [2 2 2 2 1 1 1 1 1 1 1 1 0 0 0 0 2 0 0 0 0]\n",
      "ARI Score: 0.8696\n",
      "\n",
      "Trial 37:\n",
      "Clusters: [1 2 2 2 1 1 1 1 1 1 1 1 0 0 0 0 2 0 0 0 0]\n",
      "ARI Score: 0.7643\n",
      "\n",
      "Trial 38:\n",
      "Clusters: [2 2 2 2 1 1 1 1 1 1 1 1 0 0 0 1 1 0 0 0 0]\n",
      "ARI Score: 0.6809\n",
      "\n",
      "Trial 39:\n",
      "Clusters: [1 2 1 2 1 1 1 1 1 1 1 1 0 2 2 0 2 0 0 0 2]\n",
      "ARI Score: 0.4857\n",
      "\n",
      "Trial 40:\n",
      "Clusters: [1 2 2 2 1 1 1 1 1 1 1 1 0 0 0 0 2 0 0 0 0]\n",
      "ARI Score: 0.7643\n",
      "\n",
      "Trial 41:\n",
      "Clusters: [1 2 1 2 1 1 1 1 1 1 1 1 0 2 2 0 2 0 0 0 2]\n",
      "ARI Score: 0.4857\n",
      "\n",
      "Trial 42:\n",
      "Clusters: [0 0 0 0 2 2 2 2 2 2 2 2 1 1 1 2 0 1 1 1 1]\n",
      "ARI Score: 0.7076\n",
      "\n",
      "Trial 43:\n",
      "Clusters: [0 1 0 0 2 2 2 2 2 2 2 2 1 1 1 1 2 1 1 1 1]\n",
      "ARI Score: 0.7158\n",
      "\n",
      "Trial 44:\n",
      "Clusters: [0 0 0 0 2 2 2 2 2 2 2 2 1 1 1 1 2 1 1 1 1]\n",
      "ARI Score: 0.8286\n",
      "\n",
      "Trial 45:\n",
      "Clusters: [1 2 2 2 1 1 1 1 1 1 1 1 0 0 0 1 1 0 0 0 0]\n",
      "ARI Score: 0.5536\n",
      "\n",
      "Trial 46:\n",
      "Clusters: [2 2 2 2 1 1 1 1 1 1 1 1 0 0 0 1 2 0 0 0 0]\n",
      "ARI Score: 0.7076\n",
      "\n",
      "Trial 47:\n",
      "Clusters: [1 2 2 2 1 1 1 1 1 1 1 1 0 0 0 0 2 0 0 0 0]\n",
      "ARI Score: 0.7643\n",
      "\n",
      "Trial 48:\n",
      "Clusters: [0 0 0 0 2 2 2 2 2 2 2 2 1 1 1 2 0 1 1 1 1]\n",
      "ARI Score: 0.7076\n",
      "\n",
      "Trial 49:\n",
      "Clusters: [0 0 0 0 2 2 2 2 2 2 2 2 1 1 1 1 1 1 1 1 1]\n",
      "ARI Score: 1.0000\n",
      "\n",
      "Trial 50:\n",
      "Clusters: [1 2 2 2 1 1 1 1 1 1 1 1 0 0 0 0 2 0 0 0 0]\n",
      "ARI Score: 0.7643\n",
      "\n",
      "Trial 51:\n",
      "Clusters: [2 2 2 2 1 1 1 1 1 1 1 1 0 0 0 0 2 0 0 0 0]\n",
      "ARI Score: 0.8696\n",
      "\n",
      "Trial 52:\n",
      "Clusters: [1 2 2 2 1 1 1 1 1 1 1 1 0 0 0 0 2 0 0 0 0]\n",
      "ARI Score: 0.7643\n",
      "\n",
      "Trial 53:\n",
      "Clusters: [2 2 2 2 1 1 1 1 1 1 1 1 0 0 0 0 2 0 0 0 0]\n",
      "ARI Score: 0.8696\n",
      "\n",
      "Trial 54:\n",
      "Clusters: [0 1 0 1 0 0 0 0 0 0 0 0 2 2 1 2 1 2 2 2 2]\n",
      "ARI Score: 0.5957\n",
      "\n",
      "Trial 55:\n",
      "Clusters: [1 2 2 2 1 1 1 1 1 1 1 1 0 0 0 0 2 0 0 0 0]\n",
      "ARI Score: 0.7643\n",
      "\n",
      "Trial 56:\n",
      "Clusters: [1 2 1 2 1 1 1 1 1 1 1 1 0 2 2 0 2 0 0 0 2]\n",
      "ARI Score: 0.4857\n",
      "\n",
      "Trial 57:\n",
      "Clusters: [0 1 0 0 0 0 0 0 0 0 0 0 2 1 1 2 1 2 2 2 1]\n",
      "ARI Score: 0.4632\n",
      "\n",
      "Trial 58:\n",
      "Clusters: [2 2 2 2 1 1 1 1 1 1 1 1 0 0 0 0 0 0 0 0 0]\n",
      "ARI Score: 1.0000\n",
      "\n",
      "Trial 59:\n",
      "Clusters: [0 0 0 0 2 2 2 2 2 2 2 2 1 1 1 2 0 1 1 1 1]\n",
      "ARI Score: 0.7076\n",
      "\n",
      "Trial 60:\n",
      "Clusters: [0 2 0 2 0 0 0 0 0 0 0 0 1 1 2 0 2 1 1 1 1]\n",
      "ARI Score: 0.4336\n",
      "\n",
      "Trial 61:\n",
      "Clusters: [0 2 0 2 0 0 0 0 0 0 0 0 1 2 2 1 2 1 1 1 2]\n",
      "ARI Score: 0.4857\n",
      "\n",
      "Trial 62:\n",
      "Clusters: [0 0 0 0 2 2 2 2 2 2 2 2 1 1 1 1 2 1 1 1 1]\n",
      "ARI Score: 0.8286\n",
      "\n",
      "Trial 63:\n",
      "Clusters: [1 2 2 2 1 1 1 1 1 1 1 1 0 0 0 0 1 0 0 0 0]\n",
      "ARI Score: 0.7063\n",
      "\n",
      "Trial 64:\n",
      "Clusters: [1 2 2 2 1 1 1 1 1 1 1 1 0 0 0 0 2 0 0 0 0]\n",
      "ARI Score: 0.7643\n",
      "\n",
      "Trial 65:\n",
      "Clusters: [2 2 2 2 1 1 1 1 1 1 1 1 0 0 0 1 0 0 0 0 0]\n",
      "ARI Score: 0.8286\n",
      "\n",
      "Trial 66:\n",
      "Clusters: [2 2 2 2 1 1 1 1 1 1 1 1 0 0 2 1 1 0 0 0 0]\n",
      "ARI Score: 0.5714\n",
      "\n",
      "Trial 67:\n",
      "Clusters: [2 0 2 2 1 1 1 1 1 1 1 1 0 0 0 0 2 0 0 0 0]\n",
      "ARI Score: 0.7643\n",
      "\n",
      "Trial 68:\n",
      "Clusters: [2 2 2 2 1 1 1 1 1 1 1 1 0 0 0 0 1 0 0 0 0]\n",
      "ARI Score: 0.8286\n",
      "\n",
      "Trial 69:\n",
      "Clusters: [1 2 2 2 1 1 1 1 1 1 1 1 0 0 0 1 2 0 0 0 0]\n",
      "ARI Score: 0.5957\n",
      "\n",
      "Trial 70:\n",
      "Clusters: [1 2 1 1 1 1 1 1 1 1 1 1 0 2 2 0 2 0 0 0 2]\n",
      "ARI Score: 0.4632\n",
      "\n",
      "Trial 71:\n",
      "Clusters: [2 0 2 2 1 1 1 1 1 1 1 1 0 0 0 0 0 0 0 0 0]\n",
      "ARI Score: 0.8741\n",
      "\n",
      "Trial 72:\n",
      "Clusters: [0 0 0 0 2 2 2 2 2 2 2 2 1 1 1 1 0 1 1 1 1]\n",
      "ARI Score: 0.8696\n",
      "\n",
      "Trial 73:\n",
      "Clusters: [1 2 2 2 1 1 1 2 1 1 1 1 0 0 0 0 2 0 0 0 0]\n",
      "ARI Score: 0.6522\n",
      "\n",
      "Trial 74:\n",
      "Clusters: [0 0 0 0 2 2 2 2 2 2 2 2 1 1 1 1 1 1 1 1 1]\n",
      "ARI Score: 1.0000\n",
      "\n",
      "Trial 75:\n",
      "Clusters: [0 0 0 0 2 2 2 0 2 2 2 2 1 1 1 1 1 1 1 1 1]\n",
      "ARI Score: 0.8809\n",
      "\n",
      "Trial 76:\n",
      "Clusters: [1 2 2 2 1 1 1 1 1 1 1 1 0 0 0 0 2 0 0 0 0]\n",
      "ARI Score: 0.7643\n",
      "\n",
      "Trial 77:\n",
      "Clusters: [2 2 2 2 1 1 1 1 1 1 1 1 0 1 1 0 1 0 0 0 0]\n",
      "ARI Score: 0.5594\n",
      "\n",
      "Trial 78:\n",
      "Clusters: [2 0 0 0 2 2 2 2 2 2 2 2 1 1 1 1 0 1 1 1 1]\n",
      "ARI Score: 0.7643\n",
      "\n",
      "Trial 79:\n",
      "Clusters: [0 0 0 0 1 1 1 1 1 1 1 1 2 2 2 2 1 2 2 2 2]\n",
      "ARI Score: 0.8286\n",
      "\n",
      "Trial 80:\n",
      "Clusters: [2 2 2 2 1 1 1 1 1 1 1 1 0 0 0 1 1 0 0 0 0]\n",
      "ARI Score: 0.6809\n",
      "\n",
      "Trial 81:\n",
      "Clusters: [1 2 2 2 1 1 1 1 1 1 1 1 0 0 0 0 2 0 0 0 0]\n",
      "ARI Score: 0.7643\n",
      "\n",
      "Trial 82:\n",
      "Clusters: [2 2 2 2 1 1 1 1 1 1 1 1 0 0 0 1 2 0 0 0 0]\n",
      "ARI Score: 0.7076\n",
      "\n",
      "Trial 83:\n",
      "Clusters: [0 1 0 0 2 0 0 0 0 0 0 0 2 1 1 2 1 2 2 2 1]\n",
      "ARI Score: 0.3571\n",
      "\n",
      "Trial 84:\n",
      "Clusters: [2 2 2 2 1 1 1 1 1 1 1 1 0 0 0 0 1 0 0 0 0]\n",
      "ARI Score: 0.8286\n",
      "\n",
      "Trial 85:\n",
      "Clusters: [1 2 2 2 1 1 1 1 1 1 1 1 0 0 2 0 0 0 0 0 0]\n",
      "ARI Score: 0.7643\n",
      "\n",
      "Trial 86:\n",
      "Clusters: [0 0 0 0 2 2 2 2 2 2 2 2 1 1 1 2 1 1 1 1 1]\n",
      "ARI Score: 0.8286\n",
      "\n",
      "Trial 87:\n",
      "Clusters: [1 1 1 1 2 2 2 2 2 2 2 2 0 0 0 2 1 0 0 0 0]\n",
      "ARI Score: 0.7076\n",
      "\n",
      "Trial 88:\n",
      "Clusters: [2 0 0 0 2 2 2 2 2 2 2 2 1 1 0 1 0 1 1 1 1]\n",
      "ARI Score: 0.6643\n",
      "\n",
      "Trial 89:\n",
      "Clusters: [2 2 2 2 1 1 1 1 1 1 1 1 0 0 0 0 1 0 0 0 0]\n",
      "ARI Score: 0.8286\n",
      "\n",
      "Trial 90:\n",
      "Clusters: [0 0 0 0 1 1 1 1 1 1 1 1 2 2 2 2 2 2 2 2 2]\n",
      "ARI Score: 1.0000\n",
      "\n",
      "Trial 91:\n",
      "Clusters: [0 2 0 0 0 0 0 0 0 0 0 0 1 2 2 1 2 1 1 1 2]\n",
      "ARI Score: 0.4632\n",
      "\n",
      "Trial 92:\n",
      "Clusters: [0 1 0 0 2 2 2 2 2 2 2 2 1 1 1 2 1 1 1 1 1]\n",
      "ARI Score: 0.7158\n",
      "\n",
      "Trial 93:\n",
      "Clusters: [1 2 2 2 1 1 1 1 1 1 1 1 0 0 0 0 2 0 0 0 0]\n",
      "ARI Score: 0.7643\n",
      "\n",
      "Trial 94:\n",
      "Clusters: [1 2 2 2 1 1 1 1 1 1 1 1 0 0 0 1 0 0 0 0 0]\n",
      "ARI Score: 0.7063\n",
      "\n",
      "Trial 95:\n",
      "Clusters: [2 1 2 2 0 0 0 0 0 0 0 0 1 1 1 0 1 1 1 1 1]\n",
      "ARI Score: 0.7158\n",
      "\n",
      "Trial 96:\n",
      "Clusters: [2 1 2 2 0 0 0 0 0 0 0 0 1 1 1 1 1 1 1 1 1]\n",
      "ARI Score: 0.8741\n",
      "\n",
      "Trial 97:\n",
      "Clusters: [2 0 2 2 1 1 1 2 1 1 1 1 0 0 0 0 0 0 0 0 0]\n",
      "ARI Score: 0.7660\n",
      "\n",
      "Trial 98:\n",
      "Clusters: [2 2 2 2 1 1 1 1 1 1 1 1 0 0 0 0 2 0 0 0 0]\n",
      "ARI Score: 0.8696\n",
      "\n",
      "Trial 99:\n",
      "Clusters: [1 2 1 2 1 1 1 1 1 1 1 1 0 2 2 0 2 0 0 0 2]\n",
      "ARI Score: 0.4857\n",
      "\n",
      "Trial 100:\n",
      "Clusters: [2 2 2 2 1 1 1 1 1 1 1 1 0 0 0 1 2 0 0 0 0]\n",
      "ARI Score: 0.7076\n",
      "\n",
      "Final Results:\n",
      "Average ARI over 100 trials: 0.7251\n",
      "Number of unique clustering results: 48\n"
     ]
    }
   ],
   "source": [
    "#ARI scores for C–H Activation clustering\n",
    "\n",
    "import numpy as np\n",
    "from sklearn.metrics import adjusted_rand_score\n",
    "from sklearn.cluster import KMeans\n",
    "\n",
    "df = pd.read_csv(\"CHActivationFinal.csv\") #reads in csv file\n",
    "my_array = df.values  # converts dataframe to numpy array\n",
    "\n",
    "# Function to modify all values per row\n",
    "def modify_array(arr):\n",
    "    modified_arr = arr.copy()\n",
    "    rows, cols = modified_arr.shape\n",
    "    \n",
    "    for i in range(rows):\n",
    "        for j in range(cols):\n",
    "            if modified_arr[i, j] != -1:\n",
    "                change = np.random.randint(0,6)  # Random number between 0 and 5\n",
    "                modified_arr[i, j] += np.random.choice([-change, change])  # Add or subtract change\n",
    "                # Ensure values don't exceed 100\n",
    "                modified_arr[i, j] = max(0, min(modified_arr[i, j], 100))\n",
    "    \n",
    "    return modified_arr\n",
    "\n",
    "# Ordinal normalization function\n",
    "def normalize_array_by_ranking(arr):\n",
    "    # Get the shape of the array\n",
    "    rows, cols = arr.shape\n",
    "\n",
    "    # Initialize a new array to store the normalized values and set it to NaN\n",
    "    normalized_arr = np.full((rows, cols), np.nan)\n",
    "    \n",
    "    # Iterate through each row and replace non-NaN values with their rankings\n",
    "    for i in range(rows):\n",
    "        row = arr[i, :]\n",
    "        non_nan_indices = np.logical_not(np.isnan(row))\n",
    "        ranking = np.argsort(np.argsort(row[non_nan_indices]))\n",
    "        normalized_arr[i, non_nan_indices] = ranking\n",
    "    \n",
    "    return normalized_arr\n",
    "\n",
    "# Ground truth labels (corresponding to the 21 C–H activation data points)\n",
    "true_labels = np.array([2, 2, 2, 2, 0, 0, 0, 0, 0, 0, 0, 0, \n",
    "                        1, 1, 1, 1, 1, 1, 1, 1, 1])  # 21 elements\n",
    "\n",
    "# Ensure the number of labels matches the number of data points\n",
    "if len(my_array) != len(true_labels):\n",
    "    raise ValueError(f\"Mismatch: normalized_array has {len(my_array)} rows, but true_labels has {len(true_labels)} labels.\")\n",
    "\n",
    "# Number of unique clusters in ground truth\n",
    "num_clusters = len(set(true_labels))\n",
    "\n",
    "# Run 100 modifications and compute ARI scores\n",
    "ari_scores = []\n",
    "clustering_results = []  # Store all clusterings\n",
    "unique_clusterings = {}  # Dictionary to track occurrences\n",
    "\n",
    "for trial in range(1, 101):\n",
    "    # Step 1: Modify the original data (before normalization)\n",
    "    modified_array = modify_array(my_array)  # Apply modification\n",
    "    \n",
    "    # Step 2: Normalize the modified data\n",
    "    normalized_array = normalize_array_by_ranking(modified_array)  # Normalize after modification\n",
    "    \n",
    "    # Step 3: Run KMeans on the normalized data\n",
    "    kmeans = KMeans(n_clusters=num_clusters, init=\"k-means++\", random_state=13, n_init=10)  # KMeans initialization\n",
    "    pred_labels = kmeans.fit_predict(normalized_array)  # Cluster modified data\n",
    "    ari = adjusted_rand_score(true_labels, pred_labels)  # Compute ARI\n",
    "    ari_scores.append(ari)\n",
    "    \n",
    "    # Convert cluster labels to a tuple (hashable for dictionary comparison)\n",
    "    cluster_tuple = tuple(pred_labels)\n",
    "    \n",
    "    # Track the number of times each unique clustering appears\n",
    "    if cluster_tuple in unique_clusterings:\n",
    "        unique_clusterings[cluster_tuple] += 1\n",
    "    else:\n",
    "        unique_clusterings[cluster_tuple] = 1\n",
    "    \n",
    "    # Print results for each trial\n",
    "    print(f\"\\nTrial {trial}:\")\n",
    "    print(f\"Clusters: {pred_labels}\")\n",
    "    print(f\"ARI Score: {ari:.4f}\")\n",
    "\n",
    "# Compute and print summary statistics\n",
    "avg_ari = np.mean(ari_scores)\n",
    "num_unique_clusterings = len(unique_clusterings)\n",
    "\n",
    "print(\"\\nFinal Results:\")\n",
    "print(f\"Average ARI over 100 trials: {avg_ari:.4f}\")\n",
    "print(f\"Number of unique clustering results: {num_unique_clusterings}\")"
   ]
  },
  {
   "cell_type": "code",
   "execution_count": 20,
   "id": "02796557",
   "metadata": {},
   "outputs": [
    {
     "name": "stdout",
     "output_type": "stream",
     "text": [
      "Data point 0: S = 0.00\n",
      "Data point 1: S = 0.98\n",
      "Data point 3: S = 0.09\n",
      "Data point 4: S = 0.38\n",
      "Data point 5: S = 0.09\n",
      "Data point 6: S = 0.04\n",
      "Data point 7: S = 0.04\n",
      "Data point 8: S = 0.00\n",
      "Data point 9: S = 0.00\n",
      "Data point 10: S = 0.03\n",
      "Data point 11: S = 0.00\n",
      "Data point 12: S = 0.02\n",
      "Data point 13: S = 0.82\n",
      "Data point 14: S = 0.00\n",
      "Data point 15: S = 0.18\n",
      "Data point 16: S = 0.01\n",
      "Data point 17: S = 0.00\n",
      "Data point 18: S = 0.00\n",
      "Data point 19: S = 0.02\n",
      "Data point 20: S = 0.01\n",
      "Data point 21: S = 0.00\n",
      "Data point 22: S = 0.01\n",
      "Data point 23: S = 0.00\n"
     ]
    }
   ],
   "source": [
    "#S Scores for Phenol Data\n",
    "\n",
    "import pandas as pd \n",
    "import numpy as np \n",
    "import plotly.express as px\n",
    "import plotly.colors as pc\n",
    "from sklearn.decomposition import PCA\n",
    "from sklearn import preprocessing\n",
    "from sklearn.cluster import KMeans\n",
    "from collections import defaultdict\n",
    "\n",
    "# Load data\n",
    "df = pd.read_csv(\"PhenolDataFinal.csv\")\n",
    "my_array = df.values \n",
    "\n",
    "# #Vector normalization (use for elimination data - make sure this is commented if not using)\n",
    "normalized_array = preprocessing.normalize(my_array)\n",
    "\n",
    "# Clustering parameters\n",
    "number_of_clusters = 5\n",
    "num_trials = 1000\n",
    "target_index = 2\n",
    "co_occurrence_counts = np.zeros(len(normalized_array))\n",
    "\n",
    "# Run clustering multiple times\n",
    "for seed in range(num_trials):\n",
    "    kmeans = KMeans(n_clusters=number_of_clusters, init=\"k-means++\", random_state=seed)\n",
    "    clusters = kmeans.fit_predict(normalized_array)\n",
    "    target_cluster = clusters[target_index]\n",
    "    co_occurrence_counts += (clusters == target_cluster)\n",
    "\n",
    "# Compute S scores\n",
    "S_scores = co_occurrence_counts / num_trials\n",
    "\n",
    "# Print S scores\n",
    "for idx, score in enumerate(S_scores):\n",
    "    if idx != target_index:\n",
    "        print(f\"Data point {idx}: S = {score:.2f}\")\n"
   ]
  },
  {
   "cell_type": "code",
   "execution_count": 21,
   "id": "a925f932",
   "metadata": {},
   "outputs": [
    {
     "data": {
      "image/png": "[encoded data removed]",
      "text/plain": [
       "<Figure size 1000x600 with 1 Axes>"
      ]
     },
     "metadata": {},
     "output_type": "display_data"
    }
   ],
   "source": [
    "# Determine optimal number of clusters using the elbow method - use only if unsure of # clusters needed\n",
    "wcss = []\n",
    "max_clusters = 10\n",
    "for i in range(1, max_clusters + 1):\n",
    "    kmeans = KMeans(n_clusters=i, init='k-means++', random_state=13)\n",
    "    kmeans.fit(normalized_array)\n",
    "    wcss.append(kmeans.inertia_)\n",
    "\n",
    "plt.figure(figsize=(10, 6))\n",
    "plt.plot(range(1, max_clusters + 1), wcss, marker='o', linestyle='-', color='b')\n",
    "plt.title('Elbow Method for Optimal Number of Clusters')\n",
    "plt.xlabel('Number of Clusters')\n",
    "plt.ylabel('WCSS')\n",
    "plt.xticks(range(1, max_clusters + 1))\n",
    "plt.grid(True)\n",
    "plt.show()"
   ]
  },
  {
   "cell_type": "code",
   "execution_count": 21,
   "id": "d756a6cd",
   "metadata": {},
   "outputs": [
    {
     "data": {
      "image/png": "[encoded data removed]",
      "text/plain": [
       "<Figure size 1000x500 with 1 Axes>"
      ]
     },
     "metadata": {},
     "output_type": "display_data"
    },
    {
     "name": "stdout",
     "output_type": "stream",
     "text": [
      "list of clusters by condition:\n",
      "[1 1 1 1 2 2 2 2 2 2 2 2 0 0 0 0 0 0 0 0 0]\n"
     ]
    }
   ],
   "source": [
    "#Agglomerative Clustering - need to run directly after running first block\n",
    "\n",
    "from sklearn.cluster import AgglomerativeClustering\n",
    "import scipy.cluster.hierarchy as sch\n",
    "\n",
    "# Plot the dendrogram\n",
    "plt.figure(figsize=(10, 5))\n",
    "linkage_matrix = sch.linkage(normalized_array, method=\"average\")\n",
    "sch.dendrogram(linkage_matrix)\n",
    "plt.title(\"Dendrogram for Agglomerative Clustering\")\n",
    "plt.xlabel(\"Data Points\")\n",
    "plt.ylabel(\"Distance\")\n",
    "plt.show()\n",
    "\n",
    "Agglomerative = AgglomerativeClustering(n_clusters=number_of_clusters)\n",
    "clusters = Agglomerative.fit_predict(normalized_array)\n",
    "\n",
    "#prints out results\n",
    "print(\"list of clusters by condition:\")\n",
    "print(clusters)"
   ]
  },
  {
   "cell_type": "code",
   "execution_count": 22,
   "id": "4850c85a",
   "metadata": {},
   "outputs": [],
   "source": [
    "# Python version: 3.7.15 (default, Nov 24 2022, 12:02:37) \n",
    "# [Clang 14.0.6 ]\n",
    "# numpy version: 1.21.5\n",
    "# pandas version: 1.3.5\n",
    "# scikit-learn version: 1.0.2"
   ]
  }
 ],
 "metadata": {
  "kernelspec": {
   "display_name": "Python [conda env:rdkitenv] *",
   "language": "python",
   "name": "conda-env-rdkitenv-py"
  },
  "language_info": {
   "codemirror_mode": {
    "name": "ipython",
    "version": 3
   },
   "file_extension": ".py",
   "mimetype": "text/x-python",
   "name": "python",
   "nbconvert_exporter": "python",
   "pygments_lexer": "ipython3",
   "version": "3.7.15"
  }
 },
 "nbformat": 4,
 "nbformat_minor": 5
}

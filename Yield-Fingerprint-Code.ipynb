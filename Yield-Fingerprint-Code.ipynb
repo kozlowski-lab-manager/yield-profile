{
 "cells": [
  {
   "cell_type": "code",
   "execution_count": 14,
   "id": "3454ee30",
   "metadata": {
    "scrolled": false
   },
   "outputs": [
    {
     "name": "stdout",
     "output_type": "stream",
     "text": [
      "list of clusters by condition:\n",
      "[0 0 0 0 1 1 1 1 1 1 1 1 1 2 2 2 2 2 2 2]\n"
     ]
    },
    {
     "data": {
      "application/vnd.plotly.v1+json": {
       "config": {
        "plotlyServerURL": "https://plot.ly"
       },
       "data": [
        {
         "hovertemplate": "color=#636EFA<br>symbol=circle<br>0=%{x}<br>1=%{y}<extra></extra>",
         "legendgroup": "#636EFA, circle",
         "marker": {
          "color": "#636efa",
          "size": 14,
          "symbol": "circle"
         },
         "mode": "markers",
         "name": "#636EFA, circle",
         "orientation": "v",
         "showlegend": true,
         "type": "scatter",
         "x": [
          10.625673294067383,
          9.714468955993652,
          10.230419158935547,
          9.60431957244873
         ],
         "xaxis": "x",
         "y": [
          1.0894992351531982,
          1.636312484741211,
          1.5080795288085938,
          1.1083927154541016
         ],
         "yaxis": "y"
        },
        {
         "hovertemplate": "color=#EF553B<br>symbol=square<br>0=%{x}<br>1=%{y}<extra></extra>",
         "legendgroup": "#EF553B, square",
         "marker": {
          "color": "#EF553B",
          "size": 14,
          "symbol": "diamond"
         },
         "mode": "markers",
         "name": "#EF553B, square",
         "orientation": "v",
         "showlegend": true,
         "type": "scatter",
         "x": [
          9.396430969238281,
          9.071642875671387,
          7.695736885070801,
          10.305765151977539,
          9.16394329071045,
          8.959983825683594,
          10.789481163024902,
          10.16338062286377,
          9.585902214050293
         ],
         "xaxis": "x",
         "y": [
          -0.004990268498659134,
          -0.8737822771072388,
          0.873599112033844,
          0.0002909557952079922,
          0.8711603283882141,
          -0.22565078735351562,
          0.23207873106002808,
          -0.8437309265136719,
          0.3491404056549072
         ],
         "yaxis": "y"
        },
        {
         "hovertemplate": "color=#00CC96<br>symbol=diamond<br>0=%{x}<br>1=%{y}<extra></extra>",
         "legendgroup": "#00CC96, diamond",
         "marker": {
          "color": "#00cc96",
          "size": 14,
          "symbol": "square"
         },
         "mode": "markers",
         "name": "#00CC96, diamond",
         "orientation": "v",
         "showlegend": true,
         "type": "scatter",
         "x": [
          6.410350322723389,
          5.7775797843933105,
          5.253413200378418,
          6.952456474304199,
          4.9919891357421875,
          5.944925308227539,
          5.930848598480225
         ],
         "xaxis": "x",
         "y": [
          2.309202194213867,
          0.9566921591758728,
          1.5116711854934692,
          1.5189076662063599,
          0.6899889707565308,
          2.0417842864990234,
          2.9187915325164795
         ],
         "yaxis": "y"
        }
       ],
       "layout": {
        "annotations": [
         {
          "font": {
           "color": "white",
           "size": 11
          },
          "showarrow": false,
          "text": "0",
          "x": 10.625673294067383,
          "y": 1.0894992351531982
         },
         {
          "font": {
           "color": "white",
           "size": 11
          },
          "showarrow": false,
          "text": "1",
          "x": 9.714468955993652,
          "y": 1.636312484741211
         },
         {
          "font": {
           "color": "white",
           "size": 11
          },
          "showarrow": false,
          "text": "2",
          "x": 10.230419158935547,
          "y": 1.5080795288085938
         },
         {
          "font": {
           "color": "white",
           "size": 11
          },
          "showarrow": false,
          "text": "3",
          "x": 9.60431957244873,
          "y": 1.1083927154541016
         },
         {
          "font": {
           "color": "white",
           "size": 11
          },
          "showarrow": false,
          "text": "4",
          "x": 9.396430969238281,
          "y": -0.004990268498659134
         },
         {
          "font": {
           "color": "white",
           "size": 11
          },
          "showarrow": false,
          "text": "5",
          "x": 9.071642875671387,
          "y": -0.8737822771072388
         },
         {
          "font": {
           "color": "white",
           "size": 11
          },
          "showarrow": false,
          "text": "6",
          "x": 7.695736885070801,
          "y": 0.873599112033844
         },
         {
          "font": {
           "color": "white",
           "size": 11
          },
          "showarrow": false,
          "text": "7",
          "x": 10.305765151977539,
          "y": 0.0002909557952079922
         },
         {
          "font": {
           "color": "white",
           "size": 11
          },
          "showarrow": false,
          "text": "8",
          "x": 9.16394329071045,
          "y": 0.8711603283882141
         },
         {
          "font": {
           "color": "white",
           "size": 11
          },
          "showarrow": false,
          "text": "9",
          "x": 8.959983825683594,
          "y": -0.22565078735351562
         },
         {
          "font": {
           "color": "white",
           "size": 11
          },
          "showarrow": false,
          "text": "10",
          "x": 10.789481163024902,
          "y": 0.23207873106002808
         },
         {
          "font": {
           "color": "white",
           "size": 11
          },
          "showarrow": false,
          "text": "11",
          "x": 10.16338062286377,
          "y": -0.8437309265136719
         },
         {
          "font": {
           "color": "white",
           "size": 11
          },
          "showarrow": false,
          "text": "12",
          "x": 9.585902214050293,
          "y": 0.3491404056549072
         },
         {
          "font": {
           "color": "white",
           "size": 11
          },
          "showarrow": false,
          "text": "13",
          "x": 6.410350322723389,
          "y": 2.309202194213867
         },
         {
          "font": {
           "color": "white",
           "size": 11
          },
          "showarrow": false,
          "text": "14",
          "x": 5.7775797843933105,
          "y": 0.9566921591758728
         },
         {
          "font": {
           "color": "white",
           "size": 11
          },
          "showarrow": false,
          "text": "15",
          "x": 5.253413200378418,
          "y": 1.5116711854934692
         },
         {
          "font": {
           "color": "white",
           "size": 11
          },
          "showarrow": false,
          "text": "16",
          "x": 6.952456474304199,
          "y": 1.5189076662063599
         },
         {
          "font": {
           "color": "white",
           "size": 11
          },
          "showarrow": false,
          "text": "17",
          "x": 4.9919891357421875,
          "y": 0.6899889707565308
         },
         {
          "font": {
           "color": "white",
           "size": 11
          },
          "showarrow": false,
          "text": "18",
          "x": 5.944925308227539,
          "y": 2.0417842864990234
         },
         {
          "font": {
           "color": "white",
           "size": 11
          },
          "showarrow": false,
          "text": "19",
          "x": 5.930848598480225,
          "y": 2.9187915325164795
         }
        ],
        "height": 500,
        "legend": {
         "title": {
          "text": "color, symbol"
         },
         "tracegroupgap": 0
        },
        "margin": {
         "t": 60
        },
        "template": {
         "data": {
          "bar": [
           {
            "error_x": {
             "color": "#2a3f5f"
            },
            "error_y": {
             "color": "#2a3f5f"
            },
            "marker": {
             "line": {
              "color": "#E5ECF6",
              "width": 0.5
             },
             "pattern": {
              "fillmode": "overlay",
              "size": 10,
              "solidity": 0.2
             }
            },
            "type": "bar"
           }
          ],
          "barpolar": [
           {
            "marker": {
             "line": {
              "color": "#E5ECF6",
              "width": 0.5
             },
             "pattern": {
              "fillmode": "overlay",
              "size": 10,
              "solidity": 0.2
             }
            },
            "type": "barpolar"
           }
          ],
          "carpet": [
           {
            "aaxis": {
             "endlinecolor": "#2a3f5f",
             "gridcolor": "white",
             "linecolor": "white",
             "minorgridcolor": "white",
             "startlinecolor": "#2a3f5f"
            },
            "baxis": {
             "endlinecolor": "#2a3f5f",
             "gridcolor": "white",
             "linecolor": "white",
             "minorgridcolor": "white",
             "startlinecolor": "#2a3f5f"
            },
            "type": "carpet"
           }
          ],
          "choropleth": [
           {
            "colorbar": {
             "outlinewidth": 0,
             "ticks": ""
            },
            "type": "choropleth"
           }
          ],
          "contour": [
           {
            "colorbar": {
             "outlinewidth": 0,
             "ticks": ""
            },
            "colorscale": [
             [
              0,
              "#0d0887"
             ],
             [
              0.1111111111111111,
              "#46039f"
             ],
             [
              0.2222222222222222,
              "#7201a8"
             ],
             [
              0.3333333333333333,
              "#9c179e"
             ],
             [
              0.4444444444444444,
              "#bd3786"
             ],
             [
              0.5555555555555556,
              "#d8576b"
             ],
             [
              0.6666666666666666,
              "#ed7953"
             ],
             [
              0.7777777777777778,
              "#fb9f3a"
             ],
             [
              0.8888888888888888,
              "#fdca26"
             ],
             [
              1,
              "#f0f921"
             ]
            ],
            "type": "contour"
           }
          ],
          "contourcarpet": [
           {
            "colorbar": {
             "outlinewidth": 0,
             "ticks": ""
            },
            "type": "contourcarpet"
           }
          ],
          "heatmap": [
           {
            "colorbar": {
             "outlinewidth": 0,
             "ticks": ""
            },
            "colorscale": [
             [
              0,
              "#0d0887"
             ],
             [
              0.1111111111111111,
              "#46039f"
             ],
             [
              0.2222222222222222,
              "#7201a8"
             ],
             [
              0.3333333333333333,
              "#9c179e"
             ],
             [
              0.4444444444444444,
              "#bd3786"
             ],
             [
              0.5555555555555556,
              "#d8576b"
             ],
             [
              0.6666666666666666,
              "#ed7953"
             ],
             [
              0.7777777777777778,
              "#fb9f3a"
             ],
             [
              0.8888888888888888,
              "#fdca26"
             ],
             [
              1,
              "#f0f921"
             ]
            ],
            "type": "heatmap"
           }
          ],
          "heatmapgl": [
           {
            "colorbar": {
             "outlinewidth": 0,
             "ticks": ""
            },
            "colorscale": [
             [
              0,
              "#0d0887"
             ],
             [
              0.1111111111111111,
              "#46039f"
             ],
             [
              0.2222222222222222,
              "#7201a8"
             ],
             [
              0.3333333333333333,
              "#9c179e"
             ],
             [
              0.4444444444444444,
              "#bd3786"
             ],
             [
              0.5555555555555556,
              "#d8576b"
             ],
             [
              0.6666666666666666,
              "#ed7953"
             ],
             [
              0.7777777777777778,
              "#fb9f3a"
             ],
             [
              0.8888888888888888,
              "#fdca26"
             ],
             [
              1,
              "#f0f921"
             ]
            ],
            "type": "heatmapgl"
           }
          ],
          "histogram": [
           {
            "marker": {
             "pattern": {
              "fillmode": "overlay",
              "size": 10,
              "solidity": 0.2
             }
            },
            "type": "histogram"
           }
          ],
          "histogram2d": [
           {
            "colorbar": {
             "outlinewidth": 0,
             "ticks": ""
            },
            "colorscale": [
             [
              0,
              "#0d0887"
             ],
             [
              0.1111111111111111,
              "#46039f"
             ],
             [
              0.2222222222222222,
              "#7201a8"
             ],
             [
              0.3333333333333333,
              "#9c179e"
             ],
             [
              0.4444444444444444,
              "#bd3786"
             ],
             [
              0.5555555555555556,
              "#d8576b"
             ],
             [
              0.6666666666666666,
              "#ed7953"
             ],
             [
              0.7777777777777778,
              "#fb9f3a"
             ],
             [
              0.8888888888888888,
              "#fdca26"
             ],
             [
              1,
              "#f0f921"
             ]
            ],
            "type": "histogram2d"
           }
          ],
          "histogram2dcontour": [
           {
            "colorbar": {
             "outlinewidth": 0,
             "ticks": ""
            },
            "colorscale": [
             [
              0,
              "#0d0887"
             ],
             [
              0.1111111111111111,
              "#46039f"
             ],
             [
              0.2222222222222222,
              "#7201a8"
             ],
             [
              0.3333333333333333,
              "#9c179e"
             ],
             [
              0.4444444444444444,
              "#bd3786"
             ],
             [
              0.5555555555555556,
              "#d8576b"
             ],
             [
              0.6666666666666666,
              "#ed7953"
             ],
             [
              0.7777777777777778,
              "#fb9f3a"
             ],
             [
              0.8888888888888888,
              "#fdca26"
             ],
             [
              1,
              "#f0f921"
             ]
            ],
            "type": "histogram2dcontour"
           }
          ],
          "mesh3d": [
           {
            "colorbar": {
             "outlinewidth": 0,
             "ticks": ""
            },
            "type": "mesh3d"
           }
          ],
          "parcoords": [
           {
            "line": {
             "colorbar": {
              "outlinewidth": 0,
              "ticks": ""
             }
            },
            "type": "parcoords"
           }
          ],
          "pie": [
           {
            "automargin": true,
            "type": "pie"
           }
          ],
          "scatter": [
           {
            "fillpattern": {
             "fillmode": "overlay",
             "size": 10,
             "solidity": 0.2
            },
            "type": "scatter"
           }
          ],
          "scatter3d": [
           {
            "line": {
             "colorbar": {
              "outlinewidth": 0,
              "ticks": ""
             }
            },
            "marker": {
             "colorbar": {
              "outlinewidth": 0,
              "ticks": ""
             }
            },
            "type": "scatter3d"
           }
          ],
          "scattercarpet": [
           {
            "marker": {
             "colorbar": {
              "outlinewidth": 0,
              "ticks": ""
             }
            },
            "type": "scattercarpet"
           }
          ],
          "scattergeo": [
           {
            "marker": {
             "colorbar": {
              "outlinewidth": 0,
              "ticks": ""
             }
            },
            "type": "scattergeo"
           }
          ],
          "scattergl": [
           {
            "marker": {
             "colorbar": {
              "outlinewidth": 0,
              "ticks": ""
             }
            },
            "type": "scattergl"
           }
          ],
          "scattermapbox": [
           {
            "marker": {
             "colorbar": {
              "outlinewidth": 0,
              "ticks": ""
             }
            },
            "type": "scattermapbox"
           }
          ],
          "scatterpolar": [
           {
            "marker": {
             "colorbar": {
              "outlinewidth": 0,
              "ticks": ""
             }
            },
            "type": "scatterpolar"
           }
          ],
          "scatterpolargl": [
           {
            "marker": {
             "colorbar": {
              "outlinewidth": 0,
              "ticks": ""
             }
            },
            "type": "scatterpolargl"
           }
          ],
          "scatterternary": [
           {
            "marker": {
             "colorbar": {
              "outlinewidth": 0,
              "ticks": ""
             }
            },
            "type": "scatterternary"
           }
          ],
          "surface": [
           {
            "colorbar": {
             "outlinewidth": 0,
             "ticks": ""
            },
            "colorscale": [
             [
              0,
              "#0d0887"
             ],
             [
              0.1111111111111111,
              "#46039f"
             ],
             [
              0.2222222222222222,
              "#7201a8"
             ],
             [
              0.3333333333333333,
              "#9c179e"
             ],
             [
              0.4444444444444444,
              "#bd3786"
             ],
             [
              0.5555555555555556,
              "#d8576b"
             ],
             [
              0.6666666666666666,
              "#ed7953"
             ],
             [
              0.7777777777777778,
              "#fb9f3a"
             ],
             [
              0.8888888888888888,
              "#fdca26"
             ],
             [
              1,
              "#f0f921"
             ]
            ],
            "type": "surface"
           }
          ],
          "table": [
           {
            "cells": {
             "fill": {
              "color": "#EBF0F8"
             },
             "line": {
              "color": "white"
             }
            },
            "header": {
             "fill": {
              "color": "#C8D4E3"
             },
             "line": {
              "color": "white"
             }
            },
            "type": "table"
           }
          ]
         },
         "layout": {
          "annotationdefaults": {
           "arrowcolor": "#2a3f5f",
           "arrowhead": 0,
           "arrowwidth": 1
          },
          "autotypenumbers": "strict",
          "coloraxis": {
           "colorbar": {
            "outlinewidth": 0,
            "ticks": ""
           }
          },
          "colorscale": {
           "diverging": [
            [
             0,
             "#8e0152"
            ],
            [
             0.1,
             "#c51b7d"
            ],
            [
             0.2,
             "#de77ae"
            ],
            [
             0.3,
             "#f1b6da"
            ],
            [
             0.4,
             "#fde0ef"
            ],
            [
             0.5,
             "#f7f7f7"
            ],
            [
             0.6,
             "#e6f5d0"
            ],
            [
             0.7,
             "#b8e186"
            ],
            [
             0.8,
             "#7fbc41"
            ],
            [
             0.9,
             "#4d9221"
            ],
            [
             1,
             "#276419"
            ]
           ],
           "sequential": [
            [
             0,
             "#0d0887"
            ],
            [
             0.1111111111111111,
             "#46039f"
            ],
            [
             0.2222222222222222,
             "#7201a8"
            ],
            [
             0.3333333333333333,
             "#9c179e"
            ],
            [
             0.4444444444444444,
             "#bd3786"
            ],
            [
             0.5555555555555556,
             "#d8576b"
            ],
            [
             0.6666666666666666,
             "#ed7953"
            ],
            [
             0.7777777777777778,
             "#fb9f3a"
            ],
            [
             0.8888888888888888,
             "#fdca26"
            ],
            [
             1,
             "#f0f921"
            ]
           ],
           "sequentialminus": [
            [
             0,
             "#0d0887"
            ],
            [
             0.1111111111111111,
             "#46039f"
            ],
            [
             0.2222222222222222,
             "#7201a8"
            ],
            [
             0.3333333333333333,
             "#9c179e"
            ],
            [
             0.4444444444444444,
             "#bd3786"
            ],
            [
             0.5555555555555556,
             "#d8576b"
            ],
            [
             0.6666666666666666,
             "#ed7953"
            ],
            [
             0.7777777777777778,
             "#fb9f3a"
            ],
            [
             0.8888888888888888,
             "#fdca26"
            ],
            [
             1,
             "#f0f921"
            ]
           ]
          },
          "colorway": [
           "#636efa",
           "#EF553B",
           "#00cc96",
           "#ab63fa",
           "#FFA15A",
           "#19d3f3",
           "#FF6692",
           "#B6E880",
           "#FF97FF",
           "#FECB52"
          ],
          "font": {
           "color": "#2a3f5f"
          },
          "geo": {
           "bgcolor": "white",
           "lakecolor": "white",
           "landcolor": "#E5ECF6",
           "showlakes": true,
           "showland": true,
           "subunitcolor": "white"
          },
          "hoverlabel": {
           "align": "left"
          },
          "hovermode": "closest",
          "mapbox": {
           "style": "light"
          },
          "paper_bgcolor": "white",
          "plot_bgcolor": "#E5ECF6",
          "polar": {
           "angularaxis": {
            "gridcolor": "white",
            "linecolor": "white",
            "ticks": ""
           },
           "bgcolor": "#E5ECF6",
           "radialaxis": {
            "gridcolor": "white",
            "linecolor": "white",
            "ticks": ""
           }
          },
          "scene": {
           "xaxis": {
            "backgroundcolor": "#E5ECF6",
            "gridcolor": "white",
            "gridwidth": 2,
            "linecolor": "white",
            "showbackground": true,
            "ticks": "",
            "zerolinecolor": "white"
           },
           "yaxis": {
            "backgroundcolor": "#E5ECF6",
            "gridcolor": "white",
            "gridwidth": 2,
            "linecolor": "white",
            "showbackground": true,
            "ticks": "",
            "zerolinecolor": "white"
           },
           "zaxis": {
            "backgroundcolor": "#E5ECF6",
            "gridcolor": "white",
            "gridwidth": 2,
            "linecolor": "white",
            "showbackground": true,
            "ticks": "",
            "zerolinecolor": "white"
           }
          },
          "shapedefaults": {
           "line": {
            "color": "#2a3f5f"
           }
          },
          "ternary": {
           "aaxis": {
            "gridcolor": "white",
            "linecolor": "white",
            "ticks": ""
           },
           "baxis": {
            "gridcolor": "white",
            "linecolor": "white",
            "ticks": ""
           },
           "bgcolor": "#E5ECF6",
           "caxis": {
            "gridcolor": "white",
            "linecolor": "white",
            "ticks": ""
           }
          },
          "title": {
           "x": 0.05
          },
          "xaxis": {
           "automargin": true,
           "gridcolor": "white",
           "linecolor": "white",
           "ticks": "",
           "title": {
            "standoff": 15
           },
           "zerolinecolor": "white",
           "zerolinewidth": 2
          },
          "yaxis": {
           "automargin": true,
           "gridcolor": "white",
           "linecolor": "white",
           "ticks": "",
           "title": {
            "standoff": 15
           },
           "zerolinecolor": "white",
           "zerolinewidth": 2
          }
         }
        },
        "width": 1000,
        "xaxis": {
         "anchor": "y",
         "domain": [
          0,
          1
         ],
         "title": {
          "text": "0"
         }
        },
        "yaxis": {
         "anchor": "x",
         "domain": [
          0,
          1
         ],
         "title": {
          "text": "1"
         }
        }
       }
      },
      "text/html": [
       "<div>                            <div id=\"53726afb-cf39-4406-83c0-29903c9e58ff\" class=\"plotly-graph-div\" style=\"height:500px; width:1000px;\"></div>            <script type=\"text/javascript\">                require([\"plotly\"], function(Plotly) {                    window.PLOTLYENV=window.PLOTLYENV || {};                                    if (document.getElementById(\"53726afb-cf39-4406-83c0-29903c9e58ff\")) {                    Plotly.newPlot(                        \"53726afb-cf39-4406-83c0-29903c9e58ff\",                        [{\"hovertemplate\":\"color=#636EFA<br>symbol=circle<br>0=%{x}<br>1=%{y}<extra></extra>\",\"legendgroup\":\"#636EFA, circle\",\"marker\":{\"color\":\"#636efa\",\"symbol\":\"circle\",\"size\":14},\"mode\":\"markers\",\"name\":\"#636EFA, circle\",\"orientation\":\"v\",\"showlegend\":true,\"x\":[10.625673294067383,9.714468955993652,10.230419158935547,9.60431957244873],\"xaxis\":\"x\",\"y\":[1.0894992351531982,1.636312484741211,1.5080795288085938,1.1083927154541016],\"yaxis\":\"y\",\"type\":\"scatter\"},{\"hovertemplate\":\"color=#EF553B<br>symbol=square<br>0=%{x}<br>1=%{y}<extra></extra>\",\"legendgroup\":\"#EF553B, square\",\"marker\":{\"color\":\"#EF553B\",\"symbol\":\"diamond\",\"size\":14},\"mode\":\"markers\",\"name\":\"#EF553B, square\",\"orientation\":\"v\",\"showlegend\":true,\"x\":[9.396430969238281,9.071642875671387,7.695736885070801,10.305765151977539,9.16394329071045,8.959983825683594,10.789481163024902,10.16338062286377,9.585902214050293],\"xaxis\":\"x\",\"y\":[-0.004990268498659134,-0.8737822771072388,0.873599112033844,0.0002909557952079922,0.8711603283882141,-0.22565078735351562,0.23207873106002808,-0.8437309265136719,0.3491404056549072],\"yaxis\":\"y\",\"type\":\"scatter\"},{\"hovertemplate\":\"color=#00CC96<br>symbol=diamond<br>0=%{x}<br>1=%{y}<extra></extra>\",\"legendgroup\":\"#00CC96, diamond\",\"marker\":{\"color\":\"#00cc96\",\"symbol\":\"square\",\"size\":14},\"mode\":\"markers\",\"name\":\"#00CC96, diamond\",\"orientation\":\"v\",\"showlegend\":true,\"x\":[6.410350322723389,5.7775797843933105,5.253413200378418,6.952456474304199,4.9919891357421875,5.944925308227539,5.930848598480225],\"xaxis\":\"x\",\"y\":[2.309202194213867,0.9566921591758728,1.5116711854934692,1.5189076662063599,0.6899889707565308,2.0417842864990234,2.9187915325164795],\"yaxis\":\"y\",\"type\":\"scatter\"}],                        {\"template\":{\"data\":{\"histogram2dcontour\":[{\"type\":\"histogram2dcontour\",\"colorbar\":{\"outlinewidth\":0,\"ticks\":\"\"},\"colorscale\":[[0.0,\"#0d0887\"],[0.1111111111111111,\"#46039f\"],[0.2222222222222222,\"#7201a8\"],[0.3333333333333333,\"#9c179e\"],[0.4444444444444444,\"#bd3786\"],[0.5555555555555556,\"#d8576b\"],[0.6666666666666666,\"#ed7953\"],[0.7777777777777778,\"#fb9f3a\"],[0.8888888888888888,\"#fdca26\"],[1.0,\"#f0f921\"]]}],\"choropleth\":[{\"type\":\"choropleth\",\"colorbar\":{\"outlinewidth\":0,\"ticks\":\"\"}}],\"histogram2d\":[{\"type\":\"histogram2d\",\"colorbar\":{\"outlinewidth\":0,\"ticks\":\"\"},\"colorscale\":[[0.0,\"#0d0887\"],[0.1111111111111111,\"#46039f\"],[0.2222222222222222,\"#7201a8\"],[0.3333333333333333,\"#9c179e\"],[0.4444444444444444,\"#bd3786\"],[0.5555555555555556,\"#d8576b\"],[0.6666666666666666,\"#ed7953\"],[0.7777777777777778,\"#fb9f3a\"],[0.8888888888888888,\"#fdca26\"],[1.0,\"#f0f921\"]]}],\"heatmap\":[{\"type\":\"heatmap\",\"colorbar\":{\"outlinewidth\":0,\"ticks\":\"\"},\"colorscale\":[[0.0,\"#0d0887\"],[0.1111111111111111,\"#46039f\"],[0.2222222222222222,\"#7201a8\"],[0.3333333333333333,\"#9c179e\"],[0.4444444444444444,\"#bd3786\"],[0.5555555555555556,\"#d8576b\"],[0.6666666666666666,\"#ed7953\"],[0.7777777777777778,\"#fb9f3a\"],[0.8888888888888888,\"#fdca26\"],[1.0,\"#f0f921\"]]}],\"heatmapgl\":[{\"type\":\"heatmapgl\",\"colorbar\":{\"outlinewidth\":0,\"ticks\":\"\"},\"colorscale\":[[0.0,\"#0d0887\"],[0.1111111111111111,\"#46039f\"],[0.2222222222222222,\"#7201a8\"],[0.3333333333333333,\"#9c179e\"],[0.4444444444444444,\"#bd3786\"],[0.5555555555555556,\"#d8576b\"],[0.6666666666666666,\"#ed7953\"],[0.7777777777777778,\"#fb9f3a\"],[0.8888888888888888,\"#fdca26\"],[1.0,\"#f0f921\"]]}],\"contourcarpet\":[{\"type\":\"contourcarpet\",\"colorbar\":{\"outlinewidth\":0,\"ticks\":\"\"}}],\"contour\":[{\"type\":\"contour\",\"colorbar\":{\"outlinewidth\":0,\"ticks\":\"\"},\"colorscale\":[[0.0,\"#0d0887\"],[0.1111111111111111,\"#46039f\"],[0.2222222222222222,\"#7201a8\"],[0.3333333333333333,\"#9c179e\"],[0.4444444444444444,\"#bd3786\"],[0.5555555555555556,\"#d8576b\"],[0.6666666666666666,\"#ed7953\"],[0.7777777777777778,\"#fb9f3a\"],[0.8888888888888888,\"#fdca26\"],[1.0,\"#f0f921\"]]}],\"surface\":[{\"type\":\"surface\",\"colorbar\":{\"outlinewidth\":0,\"ticks\":\"\"},\"colorscale\":[[0.0,\"#0d0887\"],[0.1111111111111111,\"#46039f\"],[0.2222222222222222,\"#7201a8\"],[0.3333333333333333,\"#9c179e\"],[0.4444444444444444,\"#bd3786\"],[0.5555555555555556,\"#d8576b\"],[0.6666666666666666,\"#ed7953\"],[0.7777777777777778,\"#fb9f3a\"],[0.8888888888888888,\"#fdca26\"],[1.0,\"#f0f921\"]]}],\"mesh3d\":[{\"type\":\"mesh3d\",\"colorbar\":{\"outlinewidth\":0,\"ticks\":\"\"}}],\"scatter\":[{\"fillpattern\":{\"fillmode\":\"overlay\",\"size\":10,\"solidity\":0.2},\"type\":\"scatter\"}],\"parcoords\":[{\"type\":\"parcoords\",\"line\":{\"colorbar\":{\"outlinewidth\":0,\"ticks\":\"\"}}}],\"scatterpolargl\":[{\"type\":\"scatterpolargl\",\"marker\":{\"colorbar\":{\"outlinewidth\":0,\"ticks\":\"\"}}}],\"bar\":[{\"error_x\":{\"color\":\"#2a3f5f\"},\"error_y\":{\"color\":\"#2a3f5f\"},\"marker\":{\"line\":{\"color\":\"#E5ECF6\",\"width\":0.5},\"pattern\":{\"fillmode\":\"overlay\",\"size\":10,\"solidity\":0.2}},\"type\":\"bar\"}],\"scattergeo\":[{\"type\":\"scattergeo\",\"marker\":{\"colorbar\":{\"outlinewidth\":0,\"ticks\":\"\"}}}],\"scatterpolar\":[{\"type\":\"scatterpolar\",\"marker\":{\"colorbar\":{\"outlinewidth\":0,\"ticks\":\"\"}}}],\"histogram\":[{\"marker\":{\"pattern\":{\"fillmode\":\"overlay\",\"size\":10,\"solidity\":0.2}},\"type\":\"histogram\"}],\"scattergl\":[{\"type\":\"scattergl\",\"marker\":{\"colorbar\":{\"outlinewidth\":0,\"ticks\":\"\"}}}],\"scatter3d\":[{\"type\":\"scatter3d\",\"line\":{\"colorbar\":{\"outlinewidth\":0,\"ticks\":\"\"}},\"marker\":{\"colorbar\":{\"outlinewidth\":0,\"ticks\":\"\"}}}],\"scattermapbox\":[{\"type\":\"scattermapbox\",\"marker\":{\"colorbar\":{\"outlinewidth\":0,\"ticks\":\"\"}}}],\"scatterternary\":[{\"type\":\"scatterternary\",\"marker\":{\"colorbar\":{\"outlinewidth\":0,\"ticks\":\"\"}}}],\"scattercarpet\":[{\"type\":\"scattercarpet\",\"marker\":{\"colorbar\":{\"outlinewidth\":0,\"ticks\":\"\"}}}],\"carpet\":[{\"aaxis\":{\"endlinecolor\":\"#2a3f5f\",\"gridcolor\":\"white\",\"linecolor\":\"white\",\"minorgridcolor\":\"white\",\"startlinecolor\":\"#2a3f5f\"},\"baxis\":{\"endlinecolor\":\"#2a3f5f\",\"gridcolor\":\"white\",\"linecolor\":\"white\",\"minorgridcolor\":\"white\",\"startlinecolor\":\"#2a3f5f\"},\"type\":\"carpet\"}],\"table\":[{\"cells\":{\"fill\":{\"color\":\"#EBF0F8\"},\"line\":{\"color\":\"white\"}},\"header\":{\"fill\":{\"color\":\"#C8D4E3\"},\"line\":{\"color\":\"white\"}},\"type\":\"table\"}],\"barpolar\":[{\"marker\":{\"line\":{\"color\":\"#E5ECF6\",\"width\":0.5},\"pattern\":{\"fillmode\":\"overlay\",\"size\":10,\"solidity\":0.2}},\"type\":\"barpolar\"}],\"pie\":[{\"automargin\":true,\"type\":\"pie\"}]},\"layout\":{\"autotypenumbers\":\"strict\",\"colorway\":[\"#636efa\",\"#EF553B\",\"#00cc96\",\"#ab63fa\",\"#FFA15A\",\"#19d3f3\",\"#FF6692\",\"#B6E880\",\"#FF97FF\",\"#FECB52\"],\"font\":{\"color\":\"#2a3f5f\"},\"hovermode\":\"closest\",\"hoverlabel\":{\"align\":\"left\"},\"paper_bgcolor\":\"white\",\"plot_bgcolor\":\"#E5ECF6\",\"polar\":{\"bgcolor\":\"#E5ECF6\",\"angularaxis\":{\"gridcolor\":\"white\",\"linecolor\":\"white\",\"ticks\":\"\"},\"radialaxis\":{\"gridcolor\":\"white\",\"linecolor\":\"white\",\"ticks\":\"\"}},\"ternary\":{\"bgcolor\":\"#E5ECF6\",\"aaxis\":{\"gridcolor\":\"white\",\"linecolor\":\"white\",\"ticks\":\"\"},\"baxis\":{\"gridcolor\":\"white\",\"linecolor\":\"white\",\"ticks\":\"\"},\"caxis\":{\"gridcolor\":\"white\",\"linecolor\":\"white\",\"ticks\":\"\"}},\"coloraxis\":{\"colorbar\":{\"outlinewidth\":0,\"ticks\":\"\"}},\"colorscale\":{\"sequential\":[[0.0,\"#0d0887\"],[0.1111111111111111,\"#46039f\"],[0.2222222222222222,\"#7201a8\"],[0.3333333333333333,\"#9c179e\"],[0.4444444444444444,\"#bd3786\"],[0.5555555555555556,\"#d8576b\"],[0.6666666666666666,\"#ed7953\"],[0.7777777777777778,\"#fb9f3a\"],[0.8888888888888888,\"#fdca26\"],[1.0,\"#f0f921\"]],\"sequentialminus\":[[0.0,\"#0d0887\"],[0.1111111111111111,\"#46039f\"],[0.2222222222222222,\"#7201a8\"],[0.3333333333333333,\"#9c179e\"],[0.4444444444444444,\"#bd3786\"],[0.5555555555555556,\"#d8576b\"],[0.6666666666666666,\"#ed7953\"],[0.7777777777777778,\"#fb9f3a\"],[0.8888888888888888,\"#fdca26\"],[1.0,\"#f0f921\"]],\"diverging\":[[0,\"#8e0152\"],[0.1,\"#c51b7d\"],[0.2,\"#de77ae\"],[0.3,\"#f1b6da\"],[0.4,\"#fde0ef\"],[0.5,\"#f7f7f7\"],[0.6,\"#e6f5d0\"],[0.7,\"#b8e186\"],[0.8,\"#7fbc41\"],[0.9,\"#4d9221\"],[1,\"#276419\"]]},\"xaxis\":{\"gridcolor\":\"white\",\"linecolor\":\"white\",\"ticks\":\"\",\"title\":{\"standoff\":15},\"zerolinecolor\":\"white\",\"automargin\":true,\"zerolinewidth\":2},\"yaxis\":{\"gridcolor\":\"white\",\"linecolor\":\"white\",\"ticks\":\"\",\"title\":{\"standoff\":15},\"zerolinecolor\":\"white\",\"automargin\":true,\"zerolinewidth\":2},\"scene\":{\"xaxis\":{\"backgroundcolor\":\"#E5ECF6\",\"gridcolor\":\"white\",\"linecolor\":\"white\",\"showbackground\":true,\"ticks\":\"\",\"zerolinecolor\":\"white\",\"gridwidth\":2},\"yaxis\":{\"backgroundcolor\":\"#E5ECF6\",\"gridcolor\":\"white\",\"linecolor\":\"white\",\"showbackground\":true,\"ticks\":\"\",\"zerolinecolor\":\"white\",\"gridwidth\":2},\"zaxis\":{\"backgroundcolor\":\"#E5ECF6\",\"gridcolor\":\"white\",\"linecolor\":\"white\",\"showbackground\":true,\"ticks\":\"\",\"zerolinecolor\":\"white\",\"gridwidth\":2}},\"shapedefaults\":{\"line\":{\"color\":\"#2a3f5f\"}},\"annotationdefaults\":{\"arrowcolor\":\"#2a3f5f\",\"arrowhead\":0,\"arrowwidth\":1},\"geo\":{\"bgcolor\":\"white\",\"landcolor\":\"#E5ECF6\",\"subunitcolor\":\"white\",\"showland\":true,\"showlakes\":true,\"lakecolor\":\"white\"},\"title\":{\"x\":0.05},\"mapbox\":{\"style\":\"light\"}}},\"xaxis\":{\"anchor\":\"y\",\"domain\":[0.0,1.0],\"title\":{\"text\":\"0\"}},\"yaxis\":{\"anchor\":\"x\",\"domain\":[0.0,1.0],\"title\":{\"text\":\"1\"}},\"legend\":{\"title\":{\"text\":\"color, symbol\"},\"tracegroupgap\":0},\"margin\":{\"t\":60},\"height\":500,\"width\":1000,\"annotations\":[{\"font\":{\"color\":\"white\",\"size\":11},\"showarrow\":false,\"text\":\"0\",\"x\":10.625673294067383,\"y\":1.0894992351531982},{\"font\":{\"color\":\"white\",\"size\":11},\"showarrow\":false,\"text\":\"1\",\"x\":9.714468955993652,\"y\":1.636312484741211},{\"font\":{\"color\":\"white\",\"size\":11},\"showarrow\":false,\"text\":\"2\",\"x\":10.230419158935547,\"y\":1.5080795288085938},{\"font\":{\"color\":\"white\",\"size\":11},\"showarrow\":false,\"text\":\"3\",\"x\":9.60431957244873,\"y\":1.1083927154541016},{\"font\":{\"color\":\"white\",\"size\":11},\"showarrow\":false,\"text\":\"4\",\"x\":9.396430969238281,\"y\":-0.004990268498659134},{\"font\":{\"color\":\"white\",\"size\":11},\"showarrow\":false,\"text\":\"5\",\"x\":9.071642875671387,\"y\":-0.8737822771072388},{\"font\":{\"color\":\"white\",\"size\":11},\"showarrow\":false,\"text\":\"6\",\"x\":7.695736885070801,\"y\":0.873599112033844},{\"font\":{\"color\":\"white\",\"size\":11},\"showarrow\":false,\"text\":\"7\",\"x\":10.305765151977539,\"y\":0.0002909557952079922},{\"font\":{\"color\":\"white\",\"size\":11},\"showarrow\":false,\"text\":\"8\",\"x\":9.16394329071045,\"y\":0.8711603283882141},{\"font\":{\"color\":\"white\",\"size\":11},\"showarrow\":false,\"text\":\"9\",\"x\":8.959983825683594,\"y\":-0.22565078735351562},{\"font\":{\"color\":\"white\",\"size\":11},\"showarrow\":false,\"text\":\"10\",\"x\":10.789481163024902,\"y\":0.23207873106002808},{\"font\":{\"color\":\"white\",\"size\":11},\"showarrow\":false,\"text\":\"11\",\"x\":10.16338062286377,\"y\":-0.8437309265136719},{\"font\":{\"color\":\"white\",\"size\":11},\"showarrow\":false,\"text\":\"12\",\"x\":9.585902214050293,\"y\":0.3491404056549072},{\"font\":{\"color\":\"white\",\"size\":11},\"showarrow\":false,\"text\":\"13\",\"x\":6.410350322723389,\"y\":2.309202194213867},{\"font\":{\"color\":\"white\",\"size\":11},\"showarrow\":false,\"text\":\"14\",\"x\":5.7775797843933105,\"y\":0.9566921591758728},{\"font\":{\"color\":\"white\",\"size\":11},\"showarrow\":false,\"text\":\"15\",\"x\":5.253413200378418,\"y\":1.5116711854934692},{\"font\":{\"color\":\"white\",\"size\":11},\"showarrow\":false,\"text\":\"16\",\"x\":6.952456474304199,\"y\":1.5189076662063599},{\"font\":{\"color\":\"white\",\"size\":11},\"showarrow\":false,\"text\":\"17\",\"x\":4.9919891357421875,\"y\":0.6899889707565308},{\"font\":{\"color\":\"white\",\"size\":11},\"showarrow\":false,\"text\":\"18\",\"x\":5.944925308227539,\"y\":2.0417842864990234},{\"font\":{\"color\":\"white\",\"size\":11},\"showarrow\":false,\"text\":\"19\",\"x\":5.930848598480225,\"y\":2.9187915325164795}]},                        {\"responsive\": true}                    ).then(function(){\n",
       "                            \n",
       "var gd = document.getElementById('53726afb-cf39-4406-83c0-29903c9e58ff');\n",
       "var x = new MutationObserver(function (mutations, observer) {{\n",
       "        var display = window.getComputedStyle(gd).display;\n",
       "        if (!display || display === 'none') {{\n",
       "            console.log([gd, 'removed!']);\n",
       "            Plotly.purge(gd);\n",
       "            observer.disconnect();\n",
       "        }}\n",
       "}});\n",
       "\n",
       "// Listen for the removal of the full notebook cells\n",
       "var notebookContainer = gd.closest('#notebook-container');\n",
       "if (notebookContainer) {{\n",
       "    x.observe(notebookContainer, {childList: true});\n",
       "}}\n",
       "\n",
       "// Listen for the clearing of the current output cell\n",
       "var outputEl = gd.closest('.output');\n",
       "if (outputEl) {{\n",
       "    x.observe(outputEl, {childList: true});\n",
       "}}\n",
       "\n",
       "                        })                };                });            </script>        </div>"
      ]
     },
     "metadata": {},
     "output_type": "display_data"
    },
    {
     "name": "stdout",
     "output_type": "stream",
     "text": [
      "Scaling and centering input matrix.\n",
      "Number of samples: 20\n",
      "Number of features: 4\n",
      "Cluster index of input data: 0.630701\n",
      "Median absolute deviation from the median of input data: 0.855357\n",
      "Estimated variance for background noise: 1.608167\n",
      "Applying soft thresholding...\n",
      "The 4 variances for simulation have\n",
      "mean: 1.645470\n",
      "standard deviation: 0.064611.\n",
      "Simulating 1000 cluster indices.  Please wait...\n",
      "Simulation complete.\n",
      "The simulated cluster indices had\n",
      "mean: 0.696593\n",
      "standard deviation: 0.040180.\n",
      "In 1000 iterations there were\n",
      "59 cluster indices <= the cluster index 0.630701\n",
      "of the input data.\n",
      "p-value:  0.059000\n",
      "The p value for\n",
      "subcluster id / is 0.059000\n",
      "Examining sub-clusters\n",
      "/0 and /1\n",
      "Computing RecClust data\n",
      "for first cluster.\n",
      "Please wait...\n",
      "Scaling and centering input matrix.\n",
      "Number of samples: 8\n",
      "Number of features: 4\n",
      "Cluster index of input data: 0.546144\n",
      "Median absolute deviation from the median of input data: 0.777442\n",
      "Estimated variance for background noise: 1.328532\n",
      "Applying soft thresholding...\n",
      "The 4 variances for simulation have\n",
      "mean: 1.714296\n",
      "standard deviation: 0.451631.\n",
      "Simulating 100 cluster indices.  Please wait...\n",
      "Simulation complete.\n",
      "The simulated cluster indices had\n",
      "mean: 0.559814\n",
      "standard deviation: 0.067569.\n",
      "In 100 iterations there were\n",
      "44 cluster indices <= the cluster index 0.546144\n",
      "of the input data.\n",
      "p-value:  0.440000\n",
      "The p value for\n",
      "subcluster id /0 is 0.440000\n",
      "Computing Recclust data\n",
      "for second cluster.\n",
      "Please wait...\n",
      "Scaling and centering input matrix.\n",
      "Number of samples: 12\n",
      "Number of features: 4\n",
      "Cluster index of input data: 0.506156\n",
      "Median absolute deviation from the median of input data: 0.654276\n",
      "Estimated variance for background noise: 0.940931\n",
      "Applying soft thresholding...\n",
      "The 4 variances for simulation have\n",
      "mean: 1.483959\n",
      "standard deviation: 0.658802.\n",
      "Simulating 100 cluster indices.  Please wait...\n",
      "Simulation complete.\n",
      "The simulated cluster indices had\n",
      "mean: 0.601782\n",
      "standard deviation: 0.073776.\n",
      "In 100 iterations there were\n",
      "10 cluster indices <= the cluster index 0.506156\n",
      "of the input data.\n",
      "p-value:  0.100000\n",
      "The p value for\n",
      "subcluster id /1 is 0.100000\n"
     ]
    },
    {
     "data": {
      "image/png": "[encoded data removed]",
      "text/plain": [
       "<Figure size 800x800 with 1 Axes>"
      ]
     },
     "metadata": {},
     "output_type": "display_data"
    }
   ],
   "source": [
    "#Importing and data processing\n",
    "\n",
    "import pandas as pd \n",
    "import numpy as np \n",
    "import plotly.express as px\n",
    "import plotly.colors as pc\n",
    "import umap\n",
    "import matplotlib.pyplot as plt\n",
    "from matplotlib.colors import ListedColormap\n",
    "from sklearn import preprocessing\n",
    "from sklearn.cluster import KMeans\n",
    "from scipy.cluster import hierarchy\n",
    "from sigclust.sigclust import sigclust\n",
    "from sigclust.recclust import recclust\n",
    "\n",
    "df = pd.read_csv(\"FinalCHActivation.csv\") #reads in csv file\n",
    "#(conditons (data points) = rows ; substrates (features) = columns)\n",
    "\n",
    "my_array = df.values #converts dataframe to numpy array\n",
    "\n",
    "\n",
    "\n",
    "\n",
    "# #Vector normalization (use for elimination and amination data - make sure this is commented if not using)\n",
    "# normalized_array = preprocessing.normalize(my_array)\n",
    "\n",
    "\n",
    "\n",
    "\n",
    "# #Vector normalization (use for phenol data - make sure this is commented if not using)\n",
    "# Y = preprocessing.normalize(my_array)\n",
    "# normalized_array = preprocessing.scale(Y)\n",
    "\n",
    "\n",
    "\n",
    "\n",
    "#Ordinal normalization (Use for C–H activation - make sure this is commented if not using)\n",
    "def normalize_array_by_ranking(arr):\n",
    "    # Get the shape of the array\n",
    "    rows, cols = arr.shape\n",
    "\n",
    "    # Initialize a new array to store the normalized values and set it to NaN\n",
    "    normalized_arr = np.full((rows, cols), np.nan)\n",
    "    \n",
    "    # Iterate through each row and replace non-NaN values with their rankings\n",
    "    for i in range(rows):\n",
    "        row = arr[i, :]\n",
    "        non_nan_indices = np.logical_not(np.isnan(row))\n",
    "        ranking = np.argsort(np.argsort(row[non_nan_indices]))\n",
    "        normalized_arr[i, non_nan_indices] = ranking\n",
    "    \n",
    "    return normalized_arr\n",
    "\n",
    "normalized_array = normalize_array_by_ranking(my_array)\n",
    "\n",
    "\n",
    "\n",
    "\n",
    "# #Uncomment to save normalized data as CSV\n",
    "# normalized_array_csv = pd.DataFrame(normalized_array, dtype = float)\n",
    "# normalized_array_csv.to_csv(\"NormalizedYieldFingerprints.csv\", sep='\\t', index=False, encoding=\"utf-8\")\n",
    "\n",
    "\n",
    "\n",
    "\n",
    "# # Determine optimal number of clusters using the elbow method - use only if unsure of # clusters needed\n",
    "# wcss = []\n",
    "# max_clusters = 20\n",
    "# for i in range(1, max_clusters + 1):\n",
    "#     kmeans = KMeans(n_clusters=i, init='k-means++', random_state=13)\n",
    "#     kmeans.fit(normalized_array)\n",
    "#     wcss.append(kmeans.inertia_)\n",
    "\n",
    "# plt.figure(figsize=(10, 6))\n",
    "# plt.plot(range(1, max_clusters + 1), wcss, marker='o', linestyle='-', color='b')\n",
    "# plt.title('Elbow Method for Optimal Number of Clusters')\n",
    "# plt.xlabel('Number of Clusters')\n",
    "# plt.ylabel('WCSS')\n",
    "# plt.xticks(range(1, max_clusters + 1))\n",
    "# plt.grid(True)\n",
    "# plt.show()\n",
    "\n",
    "\n",
    "\n",
    "\n",
    "#Clustering\n",
    "\n",
    "#choose number of clusters\n",
    "number_of_clusters = 3\n",
    "\n",
    "#runs Lloyd's k means algorithm on data. Can change random state to other numbers to test significance quickly\n",
    "KMeans = KMeans(n_clusters=number_of_clusters, init=\"k-means++\", random_state=13)\n",
    "clusters = KMeans.fit_predict(normalized_array)\n",
    "\n",
    "colors = pc.qualitative.Plotly * (number_of_clusters // len(pc.qualitative.Plotly) + 1)\n",
    "colors = colors[:number_of_clusters]\n",
    "symbols = ['circle', 'square', 'diamond', 'cross', 'x', 'triangle-up', 'triangle-down', 'triangle-left', 'triangle-right', 'hexagram'] * (number_of_clusters // 10 + 1)\n",
    "symbols = symbols[:number_of_clusters]\n",
    "cluster_to_color_dictionary = {i: colors[i] for i in range(number_of_clusters)}\n",
    "cluster_to_symbol_dictionary = {i: symbols[i] for i in range(number_of_clusters)}\n",
    "\n",
    "#prints out results\n",
    "print(\"list of clusters by condition:\")\n",
    "print(clusters)\n",
    "\n",
    "\n",
    "\n",
    "\n",
    "#UMAP to visualize data points and clustering\n",
    "#Make sure that only one reducer is active at once\n",
    "\n",
    "# #UMAP reducer for Elimination (make sure this is commented if not using)\n",
    "# reducer = umap.UMAP(\n",
    "#     metric='cosine',\n",
    "#     min_dist=1,\n",
    "#     n_components=3,\n",
    "#     n_neighbors=2,\n",
    "#     random_state=42,\n",
    "# )\n",
    "\n",
    "\n",
    "\n",
    "\n",
    "# #UMAP reducer for Phenols (uncomment if not using)\n",
    "# reducer = umap.UMAP(\n",
    "#     metric='cosine',\n",
    "#     min_dist=1,\n",
    "#     n_components=2,\n",
    "#     n_neighbors=10,\n",
    "#     random_state=42,\n",
    "# )\n",
    "\n",
    "\n",
    "\n",
    "\n",
    "#UMAP reducer for CH activation (make sure this is commented if not using)\n",
    "reducer = umap.UMAP(\n",
    "    metric='cosine',\n",
    "    min_dist=0.6,\n",
    "    n_components=3,\n",
    "    n_neighbors=3,\n",
    "    random_state=42,\n",
    ")\n",
    "\n",
    "\n",
    "\n",
    "\n",
    "# #UMAP reducer for Amination (uncomment if not using)\n",
    "# reducer = umap.UMAP(\n",
    "#     metric='cosine',\n",
    "#     min_dist=0.1,\n",
    "#     n_components=2,\n",
    "#     n_neighbors=3,\n",
    "#     random_state=42,\n",
    "# )\n",
    "\n",
    "\n",
    "\n",
    "\n",
    "#Plot dimensional reduction\n",
    "reducer.fit(normalized_array)\n",
    "embedding = reducer.transform(normalized_array)\n",
    "assert(np.all(embedding == reducer.embedding_))\n",
    "fig3 = px.scatter(embedding, x=0, y=1, color=[cluster_to_color_dictionary[label] for label in clusters], symbol=[cluster_to_symbol_dictionary[label] for label in clusters], width=1000, height=500)\n",
    "for i, entry_number in enumerate(range(len(normalized_array))):\n",
    "    fig3.add_annotation(x=embedding[i, 0], y=embedding[i, 1], text=str(entry_number), showarrow=False, font=dict(color=\"white\", size=11))\n",
    "fig3.update_traces(marker_size=14)\n",
    "fig3.show()\n",
    "\n",
    "\n",
    "\n",
    "\n",
    "#Check for cluster significance using sigclust\n",
    "recclust(normalized_array, threshold=0.10, mc_iters=1000)\n",
    "\n",
    "#Visualize sigclust\n",
    "B = hierarchy.linkage(normalized_array, 'complete')\n",
    "plt.figure(figsize=[8, 8])\n",
    "dn = hierarchy.dendrogram(B)"
   ]
  },
  {
   "cell_type": "code",
   "execution_count": null,
   "id": "42e64350",
   "metadata": {},
   "outputs": [],
   "source": []
  },
  {
   "cell_type": "code",
   "execution_count": null,
   "id": "d756a6cd",
   "metadata": {},
   "outputs": [],
   "source": []
  }
 ],
 "metadata": {
  "kernelspec": {
   "display_name": "Python [conda env:rdkitenv] *",
   "language": "python",
   "name": "conda-env-rdkitenv-py"
  },
  "language_info": {
   "codemirror_mode": {
    "name": "ipython",
    "version": 3
   },
   "file_extension": ".py",
   "mimetype": "text/x-python",
   "name": "python",
   "nbconvert_exporter": "python",
   "pygments_lexer": "ipython3",
   "version": "3.7.15"
  }
 },
 "nbformat": 4,
 "nbformat_minor": 5
}
